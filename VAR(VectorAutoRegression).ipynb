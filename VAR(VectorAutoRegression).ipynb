{
  "nbformat": 4,
  "nbformat_minor": 0,
  "metadata": {
    "colab": {
      "name": "VAR(VectorAutoRegression).ipynb",
      "provenance": [],
      "collapsed_sections": [],
      "mount_file_id": "1D4XBaZuKyo_fgmFErk1ze56A2GjvDb_a",
      "authorship_tag": "ABX9TyOiWPW7puQmdewvKhYd6AkJ",
      "include_colab_link": true
    },
    "kernelspec": {
      "name": "python3",
      "display_name": "Python 3"
    }
  },
  "cells": [
    {
      "cell_type": "markdown",
      "metadata": {
        "id": "view-in-github",
        "colab_type": "text"
      },
      "source": [
        "<a href=\"https://colab.research.google.com/github/shyamjith94/TimeSeriesDataAnalysis/blob/main/VAR(VectorAutoRegression).ipynb\" target=\"_parent\"><img src=\"https://colab.research.google.com/assets/colab-badge.svg\" alt=\"Open In Colab\"/></a>"
      ]
    },
    {
      "cell_type": "code",
      "metadata": {
        "id": "xot2QG1mwewd"
      },
      "source": [
        "import pandas as pd\n",
        "import numpy as np\n",
        "\n",
        "from statsmodels.tsa.api import VAR\n",
        "from statsmodels.tsa.stattools import adfuller\n",
        "from statsmodels.tools.eval_measures import rmse\n",
        "\n",
        "import warnings\n",
        "warnings.filterwarnings('ignore')"
      ],
      "execution_count": 24,
      "outputs": []
    },
    {
      "cell_type": "code",
      "metadata": {
        "id": "XsJyOdEKxzfo",
        "outputId": "2ee03aaa-25c8-47f8-f851-2dd0ac3f759f",
        "colab": {
          "base_uri": "https://localhost:8080/",
          "height": 238
        }
      },
      "source": [
        "data = pd.read_csv(\"/content/drive/My Drive/TimeSeriesDataAnalysis/Data/M2SLMoneyStock.csv\", index_col=0, parse_dates=True)\n",
        "data.index.freq = 'MS'\n",
        "data.head()"
      ],
      "execution_count": 25,
      "outputs": [
        {
          "output_type": "execute_result",
          "data": {
            "text/html": [
              "<div>\n",
              "<style scoped>\n",
              "    .dataframe tbody tr th:only-of-type {\n",
              "        vertical-align: middle;\n",
              "    }\n",
              "\n",
              "    .dataframe tbody tr th {\n",
              "        vertical-align: top;\n",
              "    }\n",
              "\n",
              "    .dataframe thead th {\n",
              "        text-align: right;\n",
              "    }\n",
              "</style>\n",
              "<table border=\"1\" class=\"dataframe\">\n",
              "  <thead>\n",
              "    <tr style=\"text-align: right;\">\n",
              "      <th></th>\n",
              "      <th>Money</th>\n",
              "    </tr>\n",
              "    <tr>\n",
              "      <th>Date</th>\n",
              "      <th></th>\n",
              "    </tr>\n",
              "  </thead>\n",
              "  <tbody>\n",
              "    <tr>\n",
              "      <th>1995-01-01</th>\n",
              "      <td>3492.4</td>\n",
              "    </tr>\n",
              "    <tr>\n",
              "      <th>1995-02-01</th>\n",
              "      <td>3489.9</td>\n",
              "    </tr>\n",
              "    <tr>\n",
              "      <th>1995-03-01</th>\n",
              "      <td>3491.1</td>\n",
              "    </tr>\n",
              "    <tr>\n",
              "      <th>1995-04-01</th>\n",
              "      <td>3499.2</td>\n",
              "    </tr>\n",
              "    <tr>\n",
              "      <th>1995-05-01</th>\n",
              "      <td>3524.2</td>\n",
              "    </tr>\n",
              "  </tbody>\n",
              "</table>\n",
              "</div>"
            ],
            "text/plain": [
              "             Money\n",
              "Date              \n",
              "1995-01-01  3492.4\n",
              "1995-02-01  3489.9\n",
              "1995-03-01  3491.1\n",
              "1995-04-01  3499.2\n",
              "1995-05-01  3524.2"
            ]
          },
          "metadata": {
            "tags": []
          },
          "execution_count": 25
        }
      ]
    },
    {
      "cell_type": "code",
      "metadata": {
        "id": "3dOt9A4Yyslb",
        "outputId": "ddea71ca-23f1-4456-e5ca-9d2f7060a818",
        "colab": {
          "base_uri": "https://localhost:8080/",
          "height": 238
        }
      },
      "source": [
        "data_1 = pd.read_csv(\"/content/drive/My Drive/TimeSeriesDataAnalysis/Data/PCEPersonalSpending.csv\", index_col=0, parse_dates=True)\n",
        "data_1.index.freq = 'MS'\n",
        "data_1.head()"
      ],
      "execution_count": 26,
      "outputs": [
        {
          "output_type": "execute_result",
          "data": {
            "text/html": [
              "<div>\n",
              "<style scoped>\n",
              "    .dataframe tbody tr th:only-of-type {\n",
              "        vertical-align: middle;\n",
              "    }\n",
              "\n",
              "    .dataframe tbody tr th {\n",
              "        vertical-align: top;\n",
              "    }\n",
              "\n",
              "    .dataframe thead th {\n",
              "        text-align: right;\n",
              "    }\n",
              "</style>\n",
              "<table border=\"1\" class=\"dataframe\">\n",
              "  <thead>\n",
              "    <tr style=\"text-align: right;\">\n",
              "      <th></th>\n",
              "      <th>Spending</th>\n",
              "    </tr>\n",
              "    <tr>\n",
              "      <th>Date</th>\n",
              "      <th></th>\n",
              "    </tr>\n",
              "  </thead>\n",
              "  <tbody>\n",
              "    <tr>\n",
              "      <th>1995-01-01</th>\n",
              "      <td>4851.2</td>\n",
              "    </tr>\n",
              "    <tr>\n",
              "      <th>1995-02-01</th>\n",
              "      <td>4850.8</td>\n",
              "    </tr>\n",
              "    <tr>\n",
              "      <th>1995-03-01</th>\n",
              "      <td>4885.4</td>\n",
              "    </tr>\n",
              "    <tr>\n",
              "      <th>1995-04-01</th>\n",
              "      <td>4890.2</td>\n",
              "    </tr>\n",
              "    <tr>\n",
              "      <th>1995-05-01</th>\n",
              "      <td>4933.1</td>\n",
              "    </tr>\n",
              "  </tbody>\n",
              "</table>\n",
              "</div>"
            ],
            "text/plain": [
              "            Spending\n",
              "Date                \n",
              "1995-01-01    4851.2\n",
              "1995-02-01    4850.8\n",
              "1995-03-01    4885.4\n",
              "1995-04-01    4890.2\n",
              "1995-05-01    4933.1"
            ]
          },
          "metadata": {
            "tags": []
          },
          "execution_count": 26
        }
      ]
    },
    {
      "cell_type": "code",
      "metadata": {
        "id": "cmQ5Rv20y-Vi",
        "outputId": "a01e8f77-2981-49c3-eb07-c6a9b9e4468b",
        "colab": {
          "base_uri": "https://localhost:8080/"
        }
      },
      "source": [
        "data.info()"
      ],
      "execution_count": 27,
      "outputs": [
        {
          "output_type": "stream",
          "text": [
            "<class 'pandas.core.frame.DataFrame'>\n",
            "DatetimeIndex: 252 entries, 1995-01-01 to 2015-12-01\n",
            "Freq: MS\n",
            "Data columns (total 1 columns):\n",
            " #   Column  Non-Null Count  Dtype  \n",
            "---  ------  --------------  -----  \n",
            " 0   Money   252 non-null    float64\n",
            "dtypes: float64(1)\n",
            "memory usage: 3.9 KB\n"
          ],
          "name": "stdout"
        }
      ]
    },
    {
      "cell_type": "code",
      "metadata": {
        "id": "ZtTKEgaBzCTU",
        "outputId": "fd20e425-8446-4ba8-96aa-147eca401550",
        "colab": {
          "base_uri": "https://localhost:8080/"
        }
      },
      "source": [
        "data_1.info()"
      ],
      "execution_count": 28,
      "outputs": [
        {
          "output_type": "stream",
          "text": [
            "<class 'pandas.core.frame.DataFrame'>\n",
            "DatetimeIndex: 252 entries, 1995-01-01 to 2015-12-01\n",
            "Freq: MS\n",
            "Data columns (total 1 columns):\n",
            " #   Column    Non-Null Count  Dtype  \n",
            "---  ------    --------------  -----  \n",
            " 0   Spending  252 non-null    float64\n",
            "dtypes: float64(1)\n",
            "memory usage: 3.9 KB\n"
          ],
          "name": "stdout"
        }
      ]
    },
    {
      "cell_type": "code",
      "metadata": {
        "id": "CAwY9qhrzF74",
        "outputId": "83a6268f-824b-405e-eb5a-4dad18bdcf0b",
        "colab": {
          "base_uri": "https://localhost:8080/",
          "height": 238
        }
      },
      "source": [
        "# join dataframe \n",
        "data = data.join(data_1)\n",
        "data.head()"
      ],
      "execution_count": 29,
      "outputs": [
        {
          "output_type": "execute_result",
          "data": {
            "text/html": [
              "<div>\n",
              "<style scoped>\n",
              "    .dataframe tbody tr th:only-of-type {\n",
              "        vertical-align: middle;\n",
              "    }\n",
              "\n",
              "    .dataframe tbody tr th {\n",
              "        vertical-align: top;\n",
              "    }\n",
              "\n",
              "    .dataframe thead th {\n",
              "        text-align: right;\n",
              "    }\n",
              "</style>\n",
              "<table border=\"1\" class=\"dataframe\">\n",
              "  <thead>\n",
              "    <tr style=\"text-align: right;\">\n",
              "      <th></th>\n",
              "      <th>Money</th>\n",
              "      <th>Spending</th>\n",
              "    </tr>\n",
              "    <tr>\n",
              "      <th>Date</th>\n",
              "      <th></th>\n",
              "      <th></th>\n",
              "    </tr>\n",
              "  </thead>\n",
              "  <tbody>\n",
              "    <tr>\n",
              "      <th>1995-01-01</th>\n",
              "      <td>3492.4</td>\n",
              "      <td>4851.2</td>\n",
              "    </tr>\n",
              "    <tr>\n",
              "      <th>1995-02-01</th>\n",
              "      <td>3489.9</td>\n",
              "      <td>4850.8</td>\n",
              "    </tr>\n",
              "    <tr>\n",
              "      <th>1995-03-01</th>\n",
              "      <td>3491.1</td>\n",
              "      <td>4885.4</td>\n",
              "    </tr>\n",
              "    <tr>\n",
              "      <th>1995-04-01</th>\n",
              "      <td>3499.2</td>\n",
              "      <td>4890.2</td>\n",
              "    </tr>\n",
              "    <tr>\n",
              "      <th>1995-05-01</th>\n",
              "      <td>3524.2</td>\n",
              "      <td>4933.1</td>\n",
              "    </tr>\n",
              "  </tbody>\n",
              "</table>\n",
              "</div>"
            ],
            "text/plain": [
              "             Money  Spending\n",
              "Date                        \n",
              "1995-01-01  3492.4    4851.2\n",
              "1995-02-01  3489.9    4850.8\n",
              "1995-03-01  3491.1    4885.4\n",
              "1995-04-01  3499.2    4890.2\n",
              "1995-05-01  3524.2    4933.1"
            ]
          },
          "metadata": {
            "tags": []
          },
          "execution_count": 29
        }
      ]
    },
    {
      "cell_type": "code",
      "metadata": {
        "id": "au24N4Fb2HTz",
        "outputId": "5c4b7a2c-ad21-43da-c308-0e4941572939",
        "colab": {
          "base_uri": "https://localhost:8080/",
          "height": 623
        }
      },
      "source": [
        "data.plot(figsize=(16,10))"
      ],
      "execution_count": 30,
      "outputs": [
        {
          "output_type": "execute_result",
          "data": {
            "text/plain": [
              "<matplotlib.axes._subplots.AxesSubplot at 0x7fb3e849b320>"
            ]
          },
          "metadata": {
            "tags": []
          },
          "execution_count": 30
        },
        {
          "output_type": "display_data",
          "data": {
            "image/png": "[encoded data removed]",
            "text/plain": [
              "<Figure size 1152x720 with 1 Axes>"
            ]
          },
          "metadata": {
            "tags": [],
            "needs_background": "light"
          }
        }
      ]
    },
    {
      "cell_type": "code",
      "metadata": {
        "id": "q-fM38w-2Vyj"
      },
      "source": [
        "def adf_test(series, title=''):\n",
        "    \"\"\"\n",
        "    pass time series and titile is optional\n",
        "    return ADF report\n",
        "    \"\"\"\n",
        "    print(f'Augmented Dickey-Fuller test : {title}')\n",
        "    result = adfuller(series.dropna(), autolag='AIC')\n",
        "    # AIC auto choose lags\n",
        "    label = ['ADF test statistics', 'p_value', 'lags_used', 'observations']\n",
        "    out = pd.Series(result[0:4], index=label)\n",
        "\n",
        "    # iterate adfuller test dict\n",
        "    for key, val in result[4].items():\n",
        "        out[f'critical_value({key})'] = val\n",
        "    print(out.to_string())\n",
        "    \n",
        "    if result[1] <= 0.05:\n",
        "        print('Strong evidence against the null hypothesis')\n",
        "        print('Reject the null hypothesis')\n",
        "        print('Data has no unit root and is stationary')\n",
        "    else:\n",
        "        print('Weak evidence against the null hypothesis')\n",
        "        print('Fail to reject the null hypothesis')\n",
        "        print('Data a unit root and is non-stationay')"
      ],
      "execution_count": 31,
      "outputs": []
    },
    {
      "cell_type": "code",
      "metadata": {
        "id": "SflhPLey25oB",
        "outputId": "9f4fd40a-311f-4e6a-8bc3-d4d923759b25",
        "colab": {
          "base_uri": "https://localhost:8080/"
        }
      },
      "source": [
        "adf_test(data['Money'])"
      ],
      "execution_count": 32,
      "outputs": [
        {
          "output_type": "stream",
          "text": [
            "Augmented Dickey-Fuller test : \n",
            "ADF test statistics      4.239022\n",
            "p_value                  1.000000\n",
            "lags_used                4.000000\n",
            "observations           247.000000\n",
            "critical_value(1%)      -3.457105\n",
            "critical_value(5%)      -2.873314\n",
            "critical_value(10%)     -2.573044\n",
            "Weak evidence against the null hypothesis\n",
            "Fail to reject the null hypothesis\n",
            "Data a unit root and is non-stationay\n"
          ],
          "name": "stdout"
        }
      ]
    },
    {
      "cell_type": "code",
      "metadata": {
        "id": "zz3tCOXp3CPF",
        "outputId": "ce634102-9276-42ab-c71b-bd861f0ec0b3",
        "colab": {
          "base_uri": "https://localhost:8080/"
        }
      },
      "source": [
        "adf_test(data['Spending'])"
      ],
      "execution_count": 33,
      "outputs": [
        {
          "output_type": "stream",
          "text": [
            "Augmented Dickey-Fuller test : \n",
            "ADF test statistics      0.149796\n",
            "p_value                  0.969301\n",
            "lags_used                3.000000\n",
            "observations           248.000000\n",
            "critical_value(1%)      -3.456996\n",
            "critical_value(5%)      -2.873266\n",
            "critical_value(10%)     -2.573019\n",
            "Weak evidence against the null hypothesis\n",
            "Fail to reject the null hypothesis\n",
            "Data a unit root and is non-stationay\n"
          ],
          "name": "stdout"
        }
      ]
    },
    {
      "cell_type": "code",
      "metadata": {
        "id": "gNwWtZcN3Iss",
        "outputId": "5d563044-ef05-4376-f446-3872f8d9bf33",
        "colab": {
          "base_uri": "https://localhost:8080/"
        }
      },
      "source": [
        "# first order diff()\n",
        "data_tranformed = data.diff()\n",
        "print(data.head())\n",
        "print(data_tranformed.head())"
      ],
      "execution_count": 34,
      "outputs": [
        {
          "output_type": "stream",
          "text": [
            "             Money  Spending\n",
            "Date                        \n",
            "1995-01-01  3492.4    4851.2\n",
            "1995-02-01  3489.9    4850.8\n",
            "1995-03-01  3491.1    4885.4\n",
            "1995-04-01  3499.2    4890.2\n",
            "1995-05-01  3524.2    4933.1\n",
            "            Money  Spending\n",
            "Date                       \n",
            "1995-01-01    NaN       NaN\n",
            "1995-02-01   -2.5      -0.4\n",
            "1995-03-01    1.2      34.6\n",
            "1995-04-01    8.1       4.8\n",
            "1995-05-01   25.0      42.9\n"
          ],
          "name": "stdout"
        }
      ]
    },
    {
      "cell_type": "code",
      "metadata": {
        "id": "rewZRb4K3bu4",
        "outputId": "bc80b21c-250c-4bd6-8f09-509d21e1c089",
        "colab": {
          "base_uri": "https://localhost:8080/"
        }
      },
      "source": [
        "# second order diff()\n",
        "print(data_tranformed.head())\n",
        "data_tranformed = data_tranformed.diff()\n",
        "print(data_tranformed.head())"
      ],
      "execution_count": 35,
      "outputs": [
        {
          "output_type": "stream",
          "text": [
            "            Money  Spending\n",
            "Date                       \n",
            "1995-01-01    NaN       NaN\n",
            "1995-02-01   -2.5      -0.4\n",
            "1995-03-01    1.2      34.6\n",
            "1995-04-01    8.1       4.8\n",
            "1995-05-01   25.0      42.9\n",
            "            Money  Spending\n",
            "Date                       \n",
            "1995-01-01    NaN       NaN\n",
            "1995-02-01    NaN       NaN\n",
            "1995-03-01    3.7      35.0\n",
            "1995-04-01    6.9     -29.8\n",
            "1995-05-01   16.9      38.1\n"
          ],
          "name": "stdout"
        }
      ]
    },
    {
      "cell_type": "code",
      "metadata": {
        "id": "8ueg3NMQ7qUS",
        "outputId": "25ed42f6-17ac-4f32-da5a-9cefa34961b6",
        "colab": {
          "base_uri": "https://localhost:8080/",
          "height": 238
        }
      },
      "source": [
        "data_tranformed = data_tranformed.dropna()\n",
        "data_tranformed.head()"
      ],
      "execution_count": 37,
      "outputs": [
        {
          "output_type": "execute_result",
          "data": {
            "text/html": [
              "<div>\n",
              "<style scoped>\n",
              "    .dataframe tbody tr th:only-of-type {\n",
              "        vertical-align: middle;\n",
              "    }\n",
              "\n",
              "    .dataframe tbody tr th {\n",
              "        vertical-align: top;\n",
              "    }\n",
              "\n",
              "    .dataframe thead th {\n",
              "        text-align: right;\n",
              "    }\n",
              "</style>\n",
              "<table border=\"1\" class=\"dataframe\">\n",
              "  <thead>\n",
              "    <tr style=\"text-align: right;\">\n",
              "      <th></th>\n",
              "      <th>Money</th>\n",
              "      <th>Spending</th>\n",
              "    </tr>\n",
              "    <tr>\n",
              "      <th>Date</th>\n",
              "      <th></th>\n",
              "      <th></th>\n",
              "    </tr>\n",
              "  </thead>\n",
              "  <tbody>\n",
              "    <tr>\n",
              "      <th>1995-03-01</th>\n",
              "      <td>3.7</td>\n",
              "      <td>35.0</td>\n",
              "    </tr>\n",
              "    <tr>\n",
              "      <th>1995-04-01</th>\n",
              "      <td>6.9</td>\n",
              "      <td>-29.8</td>\n",
              "    </tr>\n",
              "    <tr>\n",
              "      <th>1995-05-01</th>\n",
              "      <td>16.9</td>\n",
              "      <td>38.1</td>\n",
              "    </tr>\n",
              "    <tr>\n",
              "      <th>1995-06-01</th>\n",
              "      <td>-0.3</td>\n",
              "      <td>1.5</td>\n",
              "    </tr>\n",
              "    <tr>\n",
              "      <th>1995-07-01</th>\n",
              "      <td>-6.2</td>\n",
              "      <td>-51.7</td>\n",
              "    </tr>\n",
              "  </tbody>\n",
              "</table>\n",
              "</div>"
            ],
            "text/plain": [
              "            Money  Spending\n",
              "Date                       \n",
              "1995-03-01    3.7      35.0\n",
              "1995-04-01    6.9     -29.8\n",
              "1995-05-01   16.9      38.1\n",
              "1995-06-01   -0.3       1.5\n",
              "1995-07-01   -6.2     -51.7"
            ]
          },
          "metadata": {
            "tags": []
          },
          "execution_count": 37
        }
      ]
    },
    {
      "cell_type": "code",
      "metadata": {
        "id": "wICljWOi8J_f",
        "outputId": "830a6616-0121-40cc-88c2-e2ace305eec0",
        "colab": {
          "base_uri": "https://localhost:8080/"
        }
      },
      "source": [
        "adf_test(data_tranformed['Money'])"
      ],
      "execution_count": 40,
      "outputs": [
        {
          "output_type": "stream",
          "text": [
            "Augmented Dickey-Fuller test : \n",
            "ADF test statistics   -7.077471e+00\n",
            "p_value                4.760675e-10\n",
            "lags_used              1.400000e+01\n",
            "observations           2.350000e+02\n",
            "critical_value(1%)    -3.458487e+00\n",
            "critical_value(5%)    -2.873919e+00\n",
            "critical_value(10%)   -2.573367e+00\n",
            "Strong evidence against the null hypothesis\n",
            "Reject the null hypothesis\n",
            "Data has no unit root and is stationary\n"
          ],
          "name": "stdout"
        }
      ]
    },
    {
      "cell_type": "code",
      "metadata": {
        "id": "f6N-4h758Xfi",
        "outputId": "a9794c33-8b36-4412-eee8-fa9682850560",
        "colab": {
          "base_uri": "https://localhost:8080/"
        }
      },
      "source": [
        "adf_test(data_tranformed['Spending'])"
      ],
      "execution_count": 41,
      "outputs": [
        {
          "output_type": "stream",
          "text": [
            "Augmented Dickey-Fuller test : \n",
            "ADF test statistics   -8.760145e+00\n",
            "p_value                2.687900e-14\n",
            "lags_used              8.000000e+00\n",
            "observations           2.410000e+02\n",
            "critical_value(1%)    -3.457779e+00\n",
            "critical_value(5%)    -2.873609e+00\n",
            "critical_value(10%)   -2.573202e+00\n",
            "Strong evidence against the null hypothesis\n",
            "Reject the null hypothesis\n",
            "Data has no unit root and is stationary\n"
          ],
          "name": "stdout"
        }
      ]
    },
    {
      "cell_type": "code",
      "metadata": {
        "id": "Co2fivgm9an-"
      },
      "source": [
        "# train test split\n",
        "num_obs = 12\n",
        "train_data = data_tranformed[:-num_obs] # start from beg and end before last 12\n",
        "test_data = data_tranformed[-num_obs:]"
      ],
      "execution_count": 42,
      "outputs": []
    },
    {
      "cell_type": "markdown",
      "metadata": {
        "id": "LsxsuDen-BG5"
      },
      "source": [
        "**Grid search for order p AR of VAR model**"
      ]
    },
    {
      "cell_type": "code",
      "metadata": {
        "id": "lCXESBrw-LWU",
        "outputId": "ea5abaf2-1bc5-4f2c-8ee7-8daa6de0240b",
        "colab": {
          "base_uri": "https://localhost:8080/"
        }
      },
      "source": [
        "# for model need pass p value\n",
        "\n",
        "model = VAR(train_data)\n",
        "\n",
        "for p in [1,2,3,4,5,6,7]:\n",
        "    result = model.fit(p)\n",
        "    print(f'Order\\t: {p}')\n",
        "    print(f'AIC\\t: {result.aic}')\n",
        "    print('\\n')"
      ],
      "execution_count": 44,
      "outputs": [
        {
          "output_type": "stream",
          "text": [
            "Order\t: 1\n",
            "AIC\t: 14.178610495220896\n",
            "\n",
            "\n",
            "Order\t: 2\n",
            "AIC\t: 13.955189367163705\n",
            "\n",
            "\n",
            "Order\t: 3\n",
            "AIC\t: 13.849518291541038\n",
            "\n",
            "\n",
            "Order\t: 4\n",
            "AIC\t: 13.827950574458281\n",
            "\n",
            "\n",
            "Order\t: 5\n",
            "AIC\t: 13.78730034460964\n",
            "\n",
            "\n",
            "Order\t: 6\n",
            "AIC\t: 13.799076756885809\n",
            "\n",
            "\n",
            "Order\t: 7\n",
            "AIC\t: 13.797638727913972\n",
            "\n",
            "\n"
          ],
          "name": "stdout"
        }
      ]
    },
    {
      "cell_type": "code",
      "metadata": {
        "id": "ZCAiuG3j_hni",
        "outputId": "64f49707-1544-4c77-8a12-23fc68c51f92",
        "colab": {
          "base_uri": "https://localhost:8080/"
        }
      },
      "source": [
        "result = model.fit(5)\n",
        "result.summary()"
      ],
      "execution_count": 45,
      "outputs": [
        {
          "output_type": "execute_result",
          "data": {
            "text/plain": [
              "  Summary of Regression Results   \n",
              "==================================\n",
              "Model:                         VAR\n",
              "Method:                        OLS\n",
              "Date:           Tue, 17, Nov, 2020\n",
              "Time:                     06:57:47\n",
              "--------------------------------------------------------------------\n",
              "No. of Equations:         2.00000    BIC:                    14.1131\n",
              "Nobs:                     233.000    HQIC:                   13.9187\n",
              "Log likelihood:          -2245.45    FPE:                    972321.\n",
              "AIC:                      13.7873    Det(Omega_mle):         886628.\n",
              "--------------------------------------------------------------------\n",
              "Results for equation Money\n",
              "==============================================================================\n",
              "                 coefficient       std. error           t-stat            prob\n",
              "------------------------------------------------------------------------------\n",
              "const               0.516683         1.782238            0.290           0.772\n",
              "L1.Money           -0.646232         0.068177           -9.479           0.000\n",
              "L1.Spending        -0.107411         0.051388           -2.090           0.037\n",
              "L2.Money           -0.497482         0.077749           -6.399           0.000\n",
              "L2.Spending        -0.192202         0.068613           -2.801           0.005\n",
              "L3.Money           -0.234442         0.081004           -2.894           0.004\n",
              "L3.Spending        -0.178099         0.074288           -2.397           0.017\n",
              "L4.Money           -0.295531         0.075294           -3.925           0.000\n",
              "L4.Spending        -0.035564         0.069664           -0.511           0.610\n",
              "L5.Money           -0.162399         0.066700           -2.435           0.015\n",
              "L5.Spending        -0.058449         0.051357           -1.138           0.255\n",
              "==============================================================================\n",
              "\n",
              "Results for equation Spending\n",
              "==============================================================================\n",
              "                 coefficient       std. error           t-stat            prob\n",
              "------------------------------------------------------------------------------\n",
              "const               0.203469         2.355446            0.086           0.931\n",
              "L1.Money            0.188105         0.090104            2.088           0.037\n",
              "L1.Spending        -0.878970         0.067916          -12.942           0.000\n",
              "L2.Money            0.053017         0.102755            0.516           0.606\n",
              "L2.Spending        -0.625313         0.090681           -6.896           0.000\n",
              "L3.Money           -0.022172         0.107057           -0.207           0.836\n",
              "L3.Spending        -0.389041         0.098180           -3.963           0.000\n",
              "L4.Money           -0.170456         0.099510           -1.713           0.087\n",
              "L4.Spending        -0.245435         0.092069           -2.666           0.008\n",
              "L5.Money           -0.083165         0.088153           -0.943           0.345\n",
              "L5.Spending        -0.181699         0.067874           -2.677           0.007\n",
              "==============================================================================\n",
              "\n",
              "Correlation matrix of residuals\n",
              "               Money  Spending\n",
              "Money       1.000000 -0.267934\n",
              "Spending   -0.267934  1.000000\n",
              "\n"
            ]
          },
          "metadata": {
            "tags": []
          },
          "execution_count": 45
        }
      ]
    },
    {
      "cell_type": "code",
      "metadata": {
        "id": "Sat_v_OwBJ7r"
      },
      "source": [
        "# steps =  forcasting period\n",
        "# y = nparray(p * k) p is 5  and k is 2 (money and spending)\n",
        "\n",
        "# grab 5 lagged values , right before the test start\n",
        "lagg_values = train_data.values[-5:]\n",
        "\n",
        "pred = result.forecast(y=lagg_values, steps=12)\n",
        "\n",
        "# convert to data frmae\n",
        "# 2015-01-01 test test start\n",
        "\n",
        "idx = pd.date_range('2015-01-01', periods=12, freq='MS')\n",
        "# 2d diffrencing 2 times\n",
        "data_forecast = pd.DataFrame(data=pred, index=idx, columns=['Money_2d', 'Spending_2d'])"
      ],
      "execution_count": 51,
      "outputs": []
    },
    {
      "cell_type": "code",
      "metadata": {
        "id": "dmqm1lOHD0JD",
        "outputId": "9dd7de5b-1e79-4cfc-a89b-599dc9afbda0",
        "colab": {
          "base_uri": "https://localhost:8080/",
          "height": 457
        }
      },
      "source": [
        "test_data"
      ],
      "execution_count": 50,
      "outputs": [
        {
          "output_type": "execute_result",
          "data": {
            "text/html": [
              "<div>\n",
              "<style scoped>\n",
              "    .dataframe tbody tr th:only-of-type {\n",
              "        vertical-align: middle;\n",
              "    }\n",
              "\n",
              "    .dataframe tbody tr th {\n",
              "        vertical-align: top;\n",
              "    }\n",
              "\n",
              "    .dataframe thead th {\n",
              "        text-align: right;\n",
              "    }\n",
              "</style>\n",
              "<table border=\"1\" class=\"dataframe\">\n",
              "  <thead>\n",
              "    <tr style=\"text-align: right;\">\n",
              "      <th></th>\n",
              "      <th>Money</th>\n",
              "      <th>Spending</th>\n",
              "    </tr>\n",
              "    <tr>\n",
              "      <th>Date</th>\n",
              "      <th></th>\n",
              "      <th></th>\n",
              "    </tr>\n",
              "  </thead>\n",
              "  <tbody>\n",
              "    <tr>\n",
              "      <th>2015-01-01</th>\n",
              "      <td>-15.5</td>\n",
              "      <td>-26.6</td>\n",
              "    </tr>\n",
              "    <tr>\n",
              "      <th>2015-02-01</th>\n",
              "      <td>56.1</td>\n",
              "      <td>52.4</td>\n",
              "    </tr>\n",
              "    <tr>\n",
              "      <th>2015-03-01</th>\n",
              "      <td>-102.8</td>\n",
              "      <td>39.5</td>\n",
              "    </tr>\n",
              "    <tr>\n",
              "      <th>2015-04-01</th>\n",
              "      <td>30.9</td>\n",
              "      <td>-40.4</td>\n",
              "    </tr>\n",
              "    <tr>\n",
              "      <th>2015-05-01</th>\n",
              "      <td>-15.8</td>\n",
              "      <td>38.8</td>\n",
              "    </tr>\n",
              "    <tr>\n",
              "      <th>2015-06-01</th>\n",
              "      <td>14.0</td>\n",
              "      <td>-34.1</td>\n",
              "    </tr>\n",
              "    <tr>\n",
              "      <th>2015-07-01</th>\n",
              "      <td>6.7</td>\n",
              "      <td>6.9</td>\n",
              "    </tr>\n",
              "    <tr>\n",
              "      <th>2015-08-01</th>\n",
              "      <td>-0.7</td>\n",
              "      <td>-8.5</td>\n",
              "    </tr>\n",
              "    <tr>\n",
              "      <th>2015-09-01</th>\n",
              "      <td>5.5</td>\n",
              "      <td>-39.8</td>\n",
              "    </tr>\n",
              "    <tr>\n",
              "      <th>2015-10-01</th>\n",
              "      <td>-23.1</td>\n",
              "      <td>24.5</td>\n",
              "    </tr>\n",
              "    <tr>\n",
              "      <th>2015-11-01</th>\n",
              "      <td>55.8</td>\n",
              "      <td>10.7</td>\n",
              "    </tr>\n",
              "    <tr>\n",
              "      <th>2015-12-01</th>\n",
              "      <td>-31.2</td>\n",
              "      <td>-15.0</td>\n",
              "    </tr>\n",
              "  </tbody>\n",
              "</table>\n",
              "</div>"
            ],
            "text/plain": [
              "            Money  Spending\n",
              "Date                       \n",
              "2015-01-01  -15.5     -26.6\n",
              "2015-02-01   56.1      52.4\n",
              "2015-03-01 -102.8      39.5\n",
              "2015-04-01   30.9     -40.4\n",
              "2015-05-01  -15.8      38.8\n",
              "2015-06-01   14.0     -34.1\n",
              "2015-07-01    6.7       6.9\n",
              "2015-08-01   -0.7      -8.5\n",
              "2015-09-01    5.5     -39.8\n",
              "2015-10-01  -23.1      24.5\n",
              "2015-11-01   55.8      10.7\n",
              "2015-12-01  -31.2     -15.0"
            ]
          },
          "metadata": {
            "tags": []
          },
          "execution_count": 50
        }
      ]
    },
    {
      "cell_type": "markdown",
      "metadata": {
        "id": "4R-4ZMfwEB4q"
      },
      "source": [
        "**Inverse Tranform money_2d and spending_2d**"
      ]
    },
    {
      "cell_type": "code",
      "metadata": {
        "id": "WKCP1aqJEFvm",
        "outputId": "f8b08314-d1c7-4a6d-b239-59685a35291d",
        "colab": {
          "base_uri": "https://localhost:8080/",
          "height": 206
        }
      },
      "source": [
        "#money\n",
        "data_forecast['Money_1D'] = (data['Money'].iloc[-num_obs-1] - data['Money'].iloc[-num_obs-2]) + data_forecast['Money_2d'].cumsum()\n",
        "data_forecast['MoneyForecast'] = data['Money'].iloc[-num_obs-2] + data_forecast['Money_1D'].cumsum()\n",
        "# spending\n",
        "data_forecast['Spending_1D'] = (data['Spending'].iloc[-num_obs-1] - data['Spending'].iloc[-num_obs-2]) + data_forecast['Spending_2d'].cumsum()\n",
        "data_forecast['SpendingForecast'] = data['Spending'].iloc[-num_obs-2] + data_forecast['Spending_1D'].cumsum()\n",
        "data_forecast.head()"
      ],
      "execution_count": 57,
      "outputs": [
        {
          "output_type": "execute_result",
          "data": {
            "text/html": [
              "<div>\n",
              "<style scoped>\n",
              "    .dataframe tbody tr th:only-of-type {\n",
              "        vertical-align: middle;\n",
              "    }\n",
              "\n",
              "    .dataframe tbody tr th {\n",
              "        vertical-align: top;\n",
              "    }\n",
              "\n",
              "    .dataframe thead th {\n",
              "        text-align: right;\n",
              "    }\n",
              "</style>\n",
              "<table border=\"1\" class=\"dataframe\">\n",
              "  <thead>\n",
              "    <tr style=\"text-align: right;\">\n",
              "      <th></th>\n",
              "      <th>Money_2d</th>\n",
              "      <th>Spending_2d</th>\n",
              "      <th>Money_1D</th>\n",
              "      <th>MoneyForecast</th>\n",
              "      <th>Spending_1D</th>\n",
              "      <th>SpendingForecast</th>\n",
              "    </tr>\n",
              "  </thead>\n",
              "  <tbody>\n",
              "    <tr>\n",
              "      <th>2015-01-01</th>\n",
              "      <td>-16.995276</td>\n",
              "      <td>36.149820</td>\n",
              "      <td>61.604724</td>\n",
              "      <td>11653.104724</td>\n",
              "      <td>46.749820</td>\n",
              "      <td>12098.149820</td>\n",
              "    </tr>\n",
              "    <tr>\n",
              "      <th>2015-02-01</th>\n",
              "      <td>-3.174038</td>\n",
              "      <td>-11.450298</td>\n",
              "      <td>58.430686</td>\n",
              "      <td>11711.535410</td>\n",
              "      <td>35.299522</td>\n",
              "      <td>12133.449342</td>\n",
              "    </tr>\n",
              "    <tr>\n",
              "      <th>2015-03-01</th>\n",
              "      <td>-0.377725</td>\n",
              "      <td>-6.684969</td>\n",
              "      <td>58.052961</td>\n",
              "      <td>11769.588371</td>\n",
              "      <td>28.614552</td>\n",
              "      <td>12162.063894</td>\n",
              "    </tr>\n",
              "    <tr>\n",
              "      <th>2015-04-01</th>\n",
              "      <td>-2.602233</td>\n",
              "      <td>5.479458</td>\n",
              "      <td>55.450728</td>\n",
              "      <td>11825.039099</td>\n",
              "      <td>34.094010</td>\n",
              "      <td>12196.157904</td>\n",
              "    </tr>\n",
              "    <tr>\n",
              "      <th>2015-05-01</th>\n",
              "      <td>4.228557</td>\n",
              "      <td>-2.443365</td>\n",
              "      <td>59.679285</td>\n",
              "      <td>11884.718384</td>\n",
              "      <td>31.650645</td>\n",
              "      <td>12227.808549</td>\n",
              "    </tr>\n",
              "  </tbody>\n",
              "</table>\n",
              "</div>"
            ],
            "text/plain": [
              "             Money_2d  Spending_2d  ...  Spending_1D  SpendingForecast\n",
              "2015-01-01 -16.995276    36.149820  ...    46.749820      12098.149820\n",
              "2015-02-01  -3.174038   -11.450298  ...    35.299522      12133.449342\n",
              "2015-03-01  -0.377725    -6.684969  ...    28.614552      12162.063894\n",
              "2015-04-01  -2.602233     5.479458  ...    34.094010      12196.157904\n",
              "2015-05-01   4.228557    -2.443365  ...    31.650645      12227.808549\n",
              "\n",
              "[5 rows x 6 columns]"
            ]
          },
          "metadata": {
            "tags": []
          },
          "execution_count": 57
        }
      ]
    },
    {
      "cell_type": "code",
      "metadata": {
        "id": "RqjoNNc_HFHc",
        "outputId": "8bf700e1-754d-48f4-d618-13047fd27a5c",
        "colab": {
          "base_uri": "https://localhost:8080/"
        }
      },
      "source": [
        "print(data['Money'].iloc[-num_obs-1])\n",
        "print(data['Money'].iloc[-num_obs-2])"
      ],
      "execution_count": 60,
      "outputs": [
        {
          "output_type": "stream",
          "text": [
            "11670.1\n",
            "11591.5\n"
          ],
          "name": "stdout"
        }
      ]
    },
    {
      "cell_type": "code",
      "metadata": {
        "id": "eusxGShvIrnp"
      },
      "source": [
        "test_range = data[-num_obs:]"
      ],
      "execution_count": 64,
      "outputs": []
    },
    {
      "cell_type": "code",
      "metadata": {
        "id": "O6xXkC01I7uj",
        "outputId": "14fd1e48-2523-46ef-a482-0263e5c162e6",
        "colab": {
          "base_uri": "https://localhost:8080/",
          "height": 634
        }
      },
      "source": [
        "test_range.plot(figsize=(16,10))"
      ],
      "execution_count": 68,
      "outputs": [
        {
          "output_type": "execute_result",
          "data": {
            "text/plain": [
              "<matplotlib.axes._subplots.AxesSubplot at 0x7fb3e5220748>"
            ]
          },
          "metadata": {
            "tags": []
          },
          "execution_count": 68
        },
        {
          "output_type": "display_data",
          "data": {
            "image/png": "[encoded data removed]",
            "text/plain": [
              "<Figure size 1152x720 with 1 Axes>"
            ]
          },
          "metadata": {
            "tags": [],
            "needs_background": "light"
          }
        }
      ]
    },
    {
      "cell_type": "code",
      "metadata": {
        "id": "PTGauoCTJaou",
        "outputId": "001ab5f9-7d45-4f85-f99d-81acb0f05b0c",
        "colab": {
          "base_uri": "https://localhost:8080/",
          "height": 623
        }
      },
      "source": [
        "data_forecast[['MoneyForecast', 'SpendingForecast']].plot(figsize=(16,10))"
      ],
      "execution_count": 69,
      "outputs": [
        {
          "output_type": "execute_result",
          "data": {
            "text/plain": [
              "<matplotlib.axes._subplots.AxesSubplot at 0x7fb3e519bc18>"
            ]
          },
          "metadata": {
            "tags": []
          },
          "execution_count": 69
        },
        {
          "output_type": "display_data",
          "data": {
            "image/png": "[encoded data removed]",
            "text/plain": [
              "<Figure size 1152x720 with 1 Axes>"
            ]
          },
          "metadata": {
            "tags": [],
            "needs_background": "light"
          }
        }
      ]
    },
    {
      "cell_type": "code",
      "metadata": {
        "id": "9b8qLx_wJrt-",
        "outputId": "6e924995-d5bd-472e-fe67-dfc27109a557",
        "colab": {
          "base_uri": "https://localhost:8080/",
          "height": 634
        }
      },
      "source": [
        "test_range['Money'].plot(figsize=(16,10), legend=True)\n",
        "data_forecast['MoneyForecast'].plot(legend=True)"
      ],
      "execution_count": 70,
      "outputs": [
        {
          "output_type": "execute_result",
          "data": {
            "text/plain": [
              "<matplotlib.axes._subplots.AxesSubplot at 0x7fb3e8535eb8>"
            ]
          },
          "metadata": {
            "tags": []
          },
          "execution_count": 70
        },
        {
          "output_type": "display_data",
          "data": {
            "image/png": "[encoded data removed]",
            "text/plain": [
              "<Figure size 1152x720 with 1 Axes>"
            ]
          },
          "metadata": {
            "tags": [],
            "needs_background": "light"
          }
        }
      ]
    },
    {
      "cell_type": "code",
      "metadata": {
        "id": "_c37QItMJ81U",
        "outputId": "e8424038-023a-4f11-a9ce-49e999db2eb1",
        "colab": {
          "base_uri": "https://localhost:8080/",
          "height": 634
        }
      },
      "source": [
        "test_range['Spending'].plot(figsize=(16,10), legend=True)\n",
        "data_forecast['SpendingForecast'].plot(legend=True)"
      ],
      "execution_count": 71,
      "outputs": [
        {
          "output_type": "execute_result",
          "data": {
            "text/plain": [
              "<matplotlib.axes._subplots.AxesSubplot at 0x7fb3e5131828>"
            ]
          },
          "metadata": {
            "tags": []
          },
          "execution_count": 71
        },
        {
          "output_type": "display_data",
          "data": {
            "image/png": "[encoded data removed]",
            "text/plain": [
              "<Figure size 1152x720 with 1 Axes>"
            ]
          },
          "metadata": {
            "tags": [],
            "needs_background": "light"
          }
        }
      ]
    },
    {
      "cell_type": "code",
      "metadata": {
        "id": "B_ZtEudtKLWM",
        "outputId": "46289835-4c10-4f1a-a52f-bdde32a46a99",
        "colab": {
          "base_uri": "https://localhost:8080/"
        }
      },
      "source": [
        "rmse(test_range['Money'], data_forecast['MoneyForecast'])"
      ],
      "execution_count": 72,
      "outputs": [
        {
          "output_type": "execute_result",
          "data": {
            "text/plain": [
              "68.01202664581686"
            ]
          },
          "metadata": {
            "tags": []
          },
          "execution_count": 72
        }
      ]
    },
    {
      "cell_type": "code",
      "metadata": {
        "id": "_U5KmGqAKYCM",
        "outputId": "d56567be-c00a-44b7-a993-2dbe86be396f",
        "colab": {
          "base_uri": "https://localhost:8080/"
        }
      },
      "source": [
        "test_range['Money'].mean()"
      ],
      "execution_count": 73,
      "outputs": [
        {
          "output_type": "execute_result",
          "data": {
            "text/plain": [
              "12034.008333333333"
            ]
          },
          "metadata": {
            "tags": []
          },
          "execution_count": 73
        }
      ]
    },
    {
      "cell_type": "code",
      "metadata": {
        "id": "COU1J9t-Kexb",
        "outputId": "f896ae6f-1844-48a9-bbe5-cc30d2945950",
        "colab": {
          "base_uri": "https://localhost:8080/"
        }
      },
      "source": [
        "rmse(test_range['Spending'], data_forecast['SpendingForecast'])"
      ],
      "execution_count": 75,
      "outputs": [
        {
          "output_type": "execute_result",
          "data": {
            "text/plain": [
              "39.807004771201385"
            ]
          },
          "metadata": {
            "tags": []
          },
          "execution_count": 75
        }
      ]
    },
    {
      "cell_type": "code",
      "metadata": {
        "id": "juMuWiMlKm1P",
        "outputId": "35032136-fcb8-4063-b8a9-3ee9fbc6e869",
        "colab": {
          "base_uri": "https://localhost:8080/"
        }
      },
      "source": [
        "test_range['Spending'].mean()"
      ],
      "execution_count": 76,
      "outputs": [
        {
          "output_type": "execute_result",
          "data": {
            "text/plain": [
              "12294.533333333333"
            ]
          },
          "metadata": {
            "tags": []
          },
          "execution_count": 76
        }
      ]
    }
  ]
}