{
  "nbformat": 4,
  "nbformat_minor": 0,
  "metadata": {
    "colab": {
      "name": "VARMAX(VectorAutoRegressionMovingAverage).ipynb",
      "provenance": [],
      "mount_file_id": "1Ahmfx1VjdablDDUB8aiW9uBQK_Jh-6Jf",
      "authorship_tag": "ABX9TyMm/s5JXXtiR+Ac24awSCrK",
      "include_colab_link": true
    },
    "kernelspec": {
      "name": "python3",
      "display_name": "Python 3"
    }
  },
  "cells": [
    {
      "cell_type": "markdown",
      "metadata": {
        "id": "view-in-github",
        "colab_type": "text"
      },
      "source": [
        "<a href=\"https://colab.research.google.com/github/shyamjith94/TimeSeriesDataAnalysis/blob/main/VARMAX(VectorAutoRegressionMovingAverage).ipynb\" target=\"_parent\"><img src=\"https://colab.research.google.com/assets/colab-badge.svg\" alt=\"Open In Colab\"/></a>"
      ]
    },
    {
      "cell_type": "code",
      "metadata": {
        "id": "E_libEWxMdzI"
      },
      "source": [
        "\n",
        "%%capture\n",
        "! pip3 install pmdarima"
      ],
      "execution_count": 42,
      "outputs": []
    },
    {
      "cell_type": "code",
      "metadata": {
        "id": "b2i3vHTSNXyJ"
      },
      "source": [
        "import pandas as pd\n",
        "import numpy as np\n",
        "\n",
        "from statsmodels.tsa.statespace.varmax import VARMAX, VARMAXResults\n",
        "from statsmodels.tsa.stattools import adfuller\n",
        "from statsmodels.tools.eval_measures import rmse\n",
        "from pmdarima import auto_arima\n",
        "\n",
        "import warnings\n",
        "warnings.filterwarnings('ignore')\n"
      ],
      "execution_count": 43,
      "outputs": []
    },
    {
      "cell_type": "code",
      "metadata": {
        "id": "orATYMjNM6A6",
        "outputId": "fb1d1e19-e295-4c99-c558-d6b6a2bdeffd",
        "colab": {
          "base_uri": "https://localhost:8080/",
          "height": 238
        }
      },
      "source": [
        "data = pd.read_csv(\"/content/drive/My Drive/TimeSeriesDataAnalysis/Data/M2SLMoneyStock.csv\", index_col=0, parse_dates=True)\n",
        "data.index.freq = 'MS'\n",
        "data.head()"
      ],
      "execution_count": 44,
      "outputs": [
        {
          "output_type": "execute_result",
          "data": {
            "text/html": [
              "<div>\n",
              "<style scoped>\n",
              "    .dataframe tbody tr th:only-of-type {\n",
              "        vertical-align: middle;\n",
              "    }\n",
              "\n",
              "    .dataframe tbody tr th {\n",
              "        vertical-align: top;\n",
              "    }\n",
              "\n",
              "    .dataframe thead th {\n",
              "        text-align: right;\n",
              "    }\n",
              "</style>\n",
              "<table border=\"1\" class=\"dataframe\">\n",
              "  <thead>\n",
              "    <tr style=\"text-align: right;\">\n",
              "      <th></th>\n",
              "      <th>Money</th>\n",
              "    </tr>\n",
              "    <tr>\n",
              "      <th>Date</th>\n",
              "      <th></th>\n",
              "    </tr>\n",
              "  </thead>\n",
              "  <tbody>\n",
              "    <tr>\n",
              "      <th>1995-01-01</th>\n",
              "      <td>3492.4</td>\n",
              "    </tr>\n",
              "    <tr>\n",
              "      <th>1995-02-01</th>\n",
              "      <td>3489.9</td>\n",
              "    </tr>\n",
              "    <tr>\n",
              "      <th>1995-03-01</th>\n",
              "      <td>3491.1</td>\n",
              "    </tr>\n",
              "    <tr>\n",
              "      <th>1995-04-01</th>\n",
              "      <td>3499.2</td>\n",
              "    </tr>\n",
              "    <tr>\n",
              "      <th>1995-05-01</th>\n",
              "      <td>3524.2</td>\n",
              "    </tr>\n",
              "  </tbody>\n",
              "</table>\n",
              "</div>"
            ],
            "text/plain": [
              "             Money\n",
              "Date              \n",
              "1995-01-01  3492.4\n",
              "1995-02-01  3489.9\n",
              "1995-03-01  3491.1\n",
              "1995-04-01  3499.2\n",
              "1995-05-01  3524.2"
            ]
          },
          "metadata": {
            "tags": []
          },
          "execution_count": 44
        }
      ]
    },
    {
      "cell_type": "code",
      "metadata": {
        "id": "_h1ts-7KNAHB",
        "outputId": "ddafed0b-b719-40ab-a149-5c768164be76",
        "colab": {
          "base_uri": "https://localhost:8080/",
          "height": 238
        }
      },
      "source": [
        "data_1 = pd.read_csv(\"/content/drive/My Drive/TimeSeriesDataAnalysis/Data/PCEPersonalSpending.csv\", index_col=0, parse_dates=True)\n",
        "data_1.index.freq = 'MS'\n",
        "data_1.head()"
      ],
      "execution_count": 45,
      "outputs": [
        {
          "output_type": "execute_result",
          "data": {
            "text/html": [
              "<div>\n",
              "<style scoped>\n",
              "    .dataframe tbody tr th:only-of-type {\n",
              "        vertical-align: middle;\n",
              "    }\n",
              "\n",
              "    .dataframe tbody tr th {\n",
              "        vertical-align: top;\n",
              "    }\n",
              "\n",
              "    .dataframe thead th {\n",
              "        text-align: right;\n",
              "    }\n",
              "</style>\n",
              "<table border=\"1\" class=\"dataframe\">\n",
              "  <thead>\n",
              "    <tr style=\"text-align: right;\">\n",
              "      <th></th>\n",
              "      <th>Spending</th>\n",
              "    </tr>\n",
              "    <tr>\n",
              "      <th>Date</th>\n",
              "      <th></th>\n",
              "    </tr>\n",
              "  </thead>\n",
              "  <tbody>\n",
              "    <tr>\n",
              "      <th>1995-01-01</th>\n",
              "      <td>4851.2</td>\n",
              "    </tr>\n",
              "    <tr>\n",
              "      <th>1995-02-01</th>\n",
              "      <td>4850.8</td>\n",
              "    </tr>\n",
              "    <tr>\n",
              "      <th>1995-03-01</th>\n",
              "      <td>4885.4</td>\n",
              "    </tr>\n",
              "    <tr>\n",
              "      <th>1995-04-01</th>\n",
              "      <td>4890.2</td>\n",
              "    </tr>\n",
              "    <tr>\n",
              "      <th>1995-05-01</th>\n",
              "      <td>4933.1</td>\n",
              "    </tr>\n",
              "  </tbody>\n",
              "</table>\n",
              "</div>"
            ],
            "text/plain": [
              "            Spending\n",
              "Date                \n",
              "1995-01-01    4851.2\n",
              "1995-02-01    4850.8\n",
              "1995-03-01    4885.4\n",
              "1995-04-01    4890.2\n",
              "1995-05-01    4933.1"
            ]
          },
          "metadata": {
            "tags": []
          },
          "execution_count": 45
        }
      ]
    },
    {
      "cell_type": "code",
      "metadata": {
        "id": "d0IL97j3Oaus"
      },
      "source": [
        "data = data.join(data_1)"
      ],
      "execution_count": 46,
      "outputs": []
    },
    {
      "cell_type": "code",
      "metadata": {
        "id": "pvU300LgNAsf",
        "outputId": "c61b6ee9-8774-4592-8cb1-21085b21b495",
        "colab": {
          "base_uri": "https://localhost:8080/",
          "height": 638
        }
      },
      "source": [
        "title = \"M2 Money Stock vs Personl consumption expenditures\"\n",
        "y_label = \"Billions of dollars\"\n",
        "x_label = \"\"\n",
        "\n",
        "ax = data['Spending'].plot(figsize=(16,10), title=title, legend=True)\n",
        "ax.autoscale(axis='x', tight=True)\n",
        "ax.set(xlabel=x_label, ylabel=y_label)\n",
        "data['Money'].plot(legend=True)"
      ],
      "execution_count": 47,
      "outputs": [
        {
          "output_type": "execute_result",
          "data": {
            "text/plain": [
              "<matplotlib.axes._subplots.AxesSubplot at 0x7fbba4dd5240>"
            ]
          },
          "metadata": {
            "tags": []
          },
          "execution_count": 47
        },
        {
          "output_type": "display_data",
          "data": {
            "image/png": "[encoded data removed]",
            "text/plain": [
              "<Figure size 1152x720 with 1 Axes>"
            ]
          },
          "metadata": {
            "tags": [],
            "needs_background": "light"
          }
        }
      ]
    },
    {
      "cell_type": "code",
      "metadata": {
        "id": "EmrACNHzPJe1"
      },
      "source": [
        "def adf_test(series, title=''):\n",
        "    \"\"\"\n",
        "    pass time series and titile is optional\n",
        "    return ADF report\n",
        "    \"\"\"\n",
        "    print(f'Augmented Dickey-Fuller test : {title}')\n",
        "    result = adfuller(series.dropna(), autolag='AIC')\n",
        "    # AIC auto choose lags\n",
        "    label = ['ADF test statistics', 'p_value', 'lags_used', 'observations']\n",
        "    out = pd.Series(result[0:4], index=label)\n",
        "\n",
        "    # iterate adfuller test dict\n",
        "    for key, val in result[4].items():\n",
        "        out[f'critical_value({key})'] = val\n",
        "    print(out.to_string())\n",
        "    \n",
        "    if result[1] <= 0.05:\n",
        "        print('Strong evidence against the null hypothesis')\n",
        "        print('Reject the null hypothesis')\n",
        "        print('Data has no unit root and is stationary')\n",
        "    else:\n",
        "        print('Weak evidence against the null hypothesis')\n",
        "        print('Fail to reject the null hypothesis')\n",
        "        print('Data a unit root and is non-stationay')"
      ],
      "execution_count": 48,
      "outputs": []
    },
    {
      "cell_type": "code",
      "metadata": {
        "id": "CKw84-OoPLHG",
        "outputId": "6038e73f-a132-43dc-dd1b-b387f2107a64",
        "colab": {
          "base_uri": "https://localhost:8080/"
        }
      },
      "source": [
        "adf_test(data['Money'])"
      ],
      "execution_count": 49,
      "outputs": [
        {
          "output_type": "stream",
          "text": [
            "Augmented Dickey-Fuller test : \n",
            "ADF test statistics      4.239022\n",
            "p_value                  1.000000\n",
            "lags_used                4.000000\n",
            "observations           247.000000\n",
            "critical_value(1%)      -3.457105\n",
            "critical_value(5%)      -2.873314\n",
            "critical_value(10%)     -2.573044\n",
            "Weak evidence against the null hypothesis\n",
            "Fail to reject the null hypothesis\n",
            "Data a unit root and is non-stationay\n"
          ],
          "name": "stdout"
        }
      ]
    },
    {
      "cell_type": "code",
      "metadata": {
        "id": "vBOEy66KPVDB",
        "outputId": "9d67223c-c515-4cfb-acfa-b5ee4c780a1f",
        "colab": {
          "base_uri": "https://localhost:8080/"
        }
      },
      "source": [
        "adf_test(data['Spending'])"
      ],
      "execution_count": 50,
      "outputs": [
        {
          "output_type": "stream",
          "text": [
            "Augmented Dickey-Fuller test : \n",
            "ADF test statistics      0.149796\n",
            "p_value                  0.969301\n",
            "lags_used                3.000000\n",
            "observations           248.000000\n",
            "critical_value(1%)      -3.456996\n",
            "critical_value(5%)      -2.873266\n",
            "critical_value(10%)     -2.573019\n",
            "Weak evidence against the null hypothesis\n",
            "Fail to reject the null hypothesis\n",
            "Data a unit root and is non-stationay\n"
          ],
          "name": "stdout"
        }
      ]
    },
    {
      "cell_type": "code",
      "metadata": {
        "id": "45plGa9bPY34",
        "outputId": "949fa8b1-65ad-4a28-e4de-4636fc84e69a",
        "colab": {
          "base_uri": "https://localhost:8080/",
          "height": 430
        }
      },
      "source": [
        "auto_arima(data['Money'], maxiter=1000).summary()"
      ],
      "execution_count": 51,
      "outputs": [
        {
          "output_type": "execute_result",
          "data": {
            "text/html": [
              "<table class=\"simpletable\">\n",
              "<caption>SARIMAX Results</caption>\n",
              "<tr>\n",
              "  <th>Dep. Variable:</th>           <td>y</td>        <th>  No. Observations:  </th>    <td>252</td>   \n",
              "</tr>\n",
              "<tr>\n",
              "  <th>Model:</th>           <td>SARIMAX(1, 2, 1)</td> <th>  Log Likelihood     </th> <td>-1176.729</td>\n",
              "</tr>\n",
              "<tr>\n",
              "  <th>Date:</th>            <td>Tue, 17 Nov 2020</td> <th>  AIC                </th> <td>2359.458</td> \n",
              "</tr>\n",
              "<tr>\n",
              "  <th>Time:</th>                <td>08:52:30</td>     <th>  BIC                </th> <td>2370.023</td> \n",
              "</tr>\n",
              "<tr>\n",
              "  <th>Sample:</th>                  <td>0</td>        <th>  HQIC               </th> <td>2363.710</td> \n",
              "</tr>\n",
              "<tr>\n",
              "  <th></th>                      <td> - 252</td>      <th>                     </th>     <td> </td>    \n",
              "</tr>\n",
              "<tr>\n",
              "  <th>Covariance Type:</th>        <td>opg</td>       <th>                     </th>     <td> </td>    \n",
              "</tr>\n",
              "</table>\n",
              "<table class=\"simpletable\">\n",
              "<tr>\n",
              "     <td></td>       <th>coef</th>     <th>std err</th>      <th>z</th>      <th>P>|z|</th>  <th>[0.025</th>    <th>0.975]</th>  \n",
              "</tr>\n",
              "<tr>\n",
              "  <th>ar.L1</th>  <td>    0.2229</td> <td>    0.042</td> <td>    5.297</td> <td> 0.000</td> <td>    0.140</td> <td>    0.305</td>\n",
              "</tr>\n",
              "<tr>\n",
              "  <th>ma.L1</th>  <td>   -0.9481</td> <td>    0.021</td> <td>  -45.132</td> <td> 0.000</td> <td>   -0.989</td> <td>   -0.907</td>\n",
              "</tr>\n",
              "<tr>\n",
              "  <th>sigma2</th> <td>  712.5495</td> <td>   33.501</td> <td>   21.270</td> <td> 0.000</td> <td>  646.889</td> <td>  778.210</td>\n",
              "</tr>\n",
              "</table>\n",
              "<table class=\"simpletable\">\n",
              "<tr>\n",
              "  <th>Ljung-Box (Q):</th>          <td>80.87</td> <th>  Jarque-Bera (JB):  </th> <td>598.56</td>\n",
              "</tr>\n",
              "<tr>\n",
              "  <th>Prob(Q):</th>                <td>0.00</td>  <th>  Prob(JB):          </th>  <td>0.00</td> \n",
              "</tr>\n",
              "<tr>\n",
              "  <th>Heteroskedasticity (H):</th> <td>4.31</td>  <th>  Skew:              </th>  <td>1.32</td> \n",
              "</tr>\n",
              "<tr>\n",
              "  <th>Prob(H) (two-sided):</th>    <td>0.00</td>  <th>  Kurtosis:          </th>  <td>10.11</td>\n",
              "</tr>\n",
              "</table><br/><br/>Warnings:<br/>[1] Covariance matrix calculated using the outer product of gradients (complex-step)."
            ],
            "text/plain": [
              "<class 'statsmodels.iolib.summary.Summary'>\n",
              "\"\"\"\n",
              "                               SARIMAX Results                                \n",
              "==============================================================================\n",
              "Dep. Variable:                      y   No. Observations:                  252\n",
              "Model:               SARIMAX(1, 2, 1)   Log Likelihood               -1176.729\n",
              "Date:                Tue, 17 Nov 2020   AIC                           2359.458\n",
              "Time:                        08:52:30   BIC                           2370.023\n",
              "Sample:                             0   HQIC                          2363.710\n",
              "                                - 252                                         \n",
              "Covariance Type:                  opg                                         \n",
              "==============================================================================\n",
              "                 coef    std err          z      P>|z|      [0.025      0.975]\n",
              "------------------------------------------------------------------------------\n",
              "ar.L1          0.2229      0.042      5.297      0.000       0.140       0.305\n",
              "ma.L1         -0.9481      0.021    -45.132      0.000      -0.989      -0.907\n",
              "sigma2       712.5495     33.501     21.270      0.000     646.889     778.210\n",
              "===================================================================================\n",
              "Ljung-Box (Q):                       80.87   Jarque-Bera (JB):               598.56\n",
              "Prob(Q):                              0.00   Prob(JB):                         0.00\n",
              "Heteroskedasticity (H):               4.31   Skew:                             1.32\n",
              "Prob(H) (two-sided):                  0.00   Kurtosis:                        10.11\n",
              "===================================================================================\n",
              "\n",
              "Warnings:\n",
              "[1] Covariance matrix calculated using the outer product of gradients (complex-step).\n",
              "\"\"\""
            ]
          },
          "metadata": {
            "tags": []
          },
          "execution_count": 51
        }
      ]
    },
    {
      "cell_type": "code",
      "metadata": {
        "id": "B8b8YvpEPick",
        "outputId": "9e9eb837-fc15-4aef-a921-59df8c177e78",
        "colab": {
          "base_uri": "https://localhost:8080/",
          "height": 473
        }
      },
      "source": [
        "auto_arima(data['Spending'], maxiter=1000).summary()"
      ],
      "execution_count": 52,
      "outputs": [
        {
          "output_type": "execute_result",
          "data": {
            "text/html": [
              "<table class=\"simpletable\">\n",
              "<caption>SARIMAX Results</caption>\n",
              "<tr>\n",
              "  <th>Dep. Variable:</th>           <td>y</td>        <th>  No. Observations:  </th>    <td>252</td>   \n",
              "</tr>\n",
              "<tr>\n",
              "  <th>Model:</th>           <td>SARIMAX(1, 1, 2)</td> <th>  Log Likelihood     </th> <td>-1238.601</td>\n",
              "</tr>\n",
              "<tr>\n",
              "  <th>Date:</th>            <td>Tue, 17 Nov 2020</td> <th>  AIC                </th> <td>2487.202</td> \n",
              "</tr>\n",
              "<tr>\n",
              "  <th>Time:</th>                <td>08:52:35</td>     <th>  BIC                </th> <td>2504.829</td> \n",
              "</tr>\n",
              "<tr>\n",
              "  <th>Sample:</th>                  <td>0</td>        <th>  HQIC               </th> <td>2494.295</td> \n",
              "</tr>\n",
              "<tr>\n",
              "  <th></th>                      <td> - 252</td>      <th>                     </th>     <td> </td>    \n",
              "</tr>\n",
              "<tr>\n",
              "  <th>Covariance Type:</th>        <td>opg</td>       <th>                     </th>     <td> </td>    \n",
              "</tr>\n",
              "</table>\n",
              "<table class=\"simpletable\">\n",
              "<tr>\n",
              "      <td></td>         <th>coef</th>     <th>std err</th>      <th>z</th>      <th>P>|z|</th>  <th>[0.025</th>    <th>0.975]</th>  \n",
              "</tr>\n",
              "<tr>\n",
              "  <th>intercept</th> <td>    6.7221</td> <td>    3.525</td> <td>    1.907</td> <td> 0.057</td> <td>   -0.187</td> <td>   13.631</td>\n",
              "</tr>\n",
              "<tr>\n",
              "  <th>ar.L1</th>     <td>    0.7774</td> <td>    0.120</td> <td>    6.469</td> <td> 0.000</td> <td>    0.542</td> <td>    1.013</td>\n",
              "</tr>\n",
              "<tr>\n",
              "  <th>ma.L1</th>     <td>   -0.7889</td> <td>    0.117</td> <td>   -6.767</td> <td> 0.000</td> <td>   -1.017</td> <td>   -0.560</td>\n",
              "</tr>\n",
              "<tr>\n",
              "  <th>ma.L2</th>     <td>    0.1342</td> <td>    0.062</td> <td>    2.171</td> <td> 0.030</td> <td>    0.013</td> <td>    0.255</td>\n",
              "</tr>\n",
              "<tr>\n",
              "  <th>sigma2</th>    <td> 1131.1359</td> <td>   61.857</td> <td>   18.286</td> <td> 0.000</td> <td> 1009.898</td> <td> 1252.373</td>\n",
              "</tr>\n",
              "</table>\n",
              "<table class=\"simpletable\">\n",
              "<tr>\n",
              "  <th>Ljung-Box (Q):</th>          <td>34.25</td> <th>  Jarque-Bera (JB):  </th> <td>216.24</td>\n",
              "</tr>\n",
              "<tr>\n",
              "  <th>Prob(Q):</th>                <td>0.73</td>  <th>  Prob(JB):          </th>  <td>0.00</td> \n",
              "</tr>\n",
              "<tr>\n",
              "  <th>Heteroskedasticity (H):</th> <td>0.98</td>  <th>  Skew:              </th>  <td>-0.30</td>\n",
              "</tr>\n",
              "<tr>\n",
              "  <th>Prob(H) (two-sided):</th>    <td>0.92</td>  <th>  Kurtosis:          </th>  <td>7.51</td> \n",
              "</tr>\n",
              "</table><br/><br/>Warnings:<br/>[1] Covariance matrix calculated using the outer product of gradients (complex-step)."
            ],
            "text/plain": [
              "<class 'statsmodels.iolib.summary.Summary'>\n",
              "\"\"\"\n",
              "                               SARIMAX Results                                \n",
              "==============================================================================\n",
              "Dep. Variable:                      y   No. Observations:                  252\n",
              "Model:               SARIMAX(1, 1, 2)   Log Likelihood               -1238.601\n",
              "Date:                Tue, 17 Nov 2020   AIC                           2487.202\n",
              "Time:                        08:52:35   BIC                           2504.829\n",
              "Sample:                             0   HQIC                          2494.295\n",
              "                                - 252                                         \n",
              "Covariance Type:                  opg                                         \n",
              "==============================================================================\n",
              "                 coef    std err          z      P>|z|      [0.025      0.975]\n",
              "------------------------------------------------------------------------------\n",
              "intercept      6.7221      3.525      1.907      0.057      -0.187      13.631\n",
              "ar.L1          0.7774      0.120      6.469      0.000       0.542       1.013\n",
              "ma.L1         -0.7889      0.117     -6.767      0.000      -1.017      -0.560\n",
              "ma.L2          0.1342      0.062      2.171      0.030       0.013       0.255\n",
              "sigma2      1131.1359     61.857     18.286      0.000    1009.898    1252.373\n",
              "===================================================================================\n",
              "Ljung-Box (Q):                       34.25   Jarque-Bera (JB):               216.24\n",
              "Prob(Q):                              0.73   Prob(JB):                         0.00\n",
              "Heteroskedasticity (H):               0.98   Skew:                            -0.30\n",
              "Prob(H) (two-sided):                  0.92   Kurtosis:                         7.51\n",
              "===================================================================================\n",
              "\n",
              "Warnings:\n",
              "[1] Covariance matrix calculated using the outer product of gradients (complex-step).\n",
              "\"\"\""
            ]
          },
          "metadata": {
            "tags": []
          },
          "execution_count": 52
        }
      ]
    },
    {
      "cell_type": "code",
      "metadata": {
        "id": "h42iuUtXV6Fn",
        "outputId": "1c32a4e1-8548-410c-ee97-0da9ebd6a119",
        "colab": {
          "base_uri": "https://localhost:8080/",
          "height": 238
        }
      },
      "source": [
        "# diffrencing data\n",
        "data_transformed = data.diff().diff()\n",
        "data_transformed = data_transformed.dropna()\n",
        "data_transformed.head()"
      ],
      "execution_count": 53,
      "outputs": [
        {
          "output_type": "execute_result",
          "data": {
            "text/html": [
              "<div>\n",
              "<style scoped>\n",
              "    .dataframe tbody tr th:only-of-type {\n",
              "        vertical-align: middle;\n",
              "    }\n",
              "\n",
              "    .dataframe tbody tr th {\n",
              "        vertical-align: top;\n",
              "    }\n",
              "\n",
              "    .dataframe thead th {\n",
              "        text-align: right;\n",
              "    }\n",
              "</style>\n",
              "<table border=\"1\" class=\"dataframe\">\n",
              "  <thead>\n",
              "    <tr style=\"text-align: right;\">\n",
              "      <th></th>\n",
              "      <th>Money</th>\n",
              "      <th>Spending</th>\n",
              "    </tr>\n",
              "    <tr>\n",
              "      <th>Date</th>\n",
              "      <th></th>\n",
              "      <th></th>\n",
              "    </tr>\n",
              "  </thead>\n",
              "  <tbody>\n",
              "    <tr>\n",
              "      <th>1995-03-01</th>\n",
              "      <td>3.7</td>\n",
              "      <td>35.0</td>\n",
              "    </tr>\n",
              "    <tr>\n",
              "      <th>1995-04-01</th>\n",
              "      <td>6.9</td>\n",
              "      <td>-29.8</td>\n",
              "    </tr>\n",
              "    <tr>\n",
              "      <th>1995-05-01</th>\n",
              "      <td>16.9</td>\n",
              "      <td>38.1</td>\n",
              "    </tr>\n",
              "    <tr>\n",
              "      <th>1995-06-01</th>\n",
              "      <td>-0.3</td>\n",
              "      <td>1.5</td>\n",
              "    </tr>\n",
              "    <tr>\n",
              "      <th>1995-07-01</th>\n",
              "      <td>-6.2</td>\n",
              "      <td>-51.7</td>\n",
              "    </tr>\n",
              "  </tbody>\n",
              "</table>\n",
              "</div>"
            ],
            "text/plain": [
              "            Money  Spending\n",
              "Date                       \n",
              "1995-03-01    3.7      35.0\n",
              "1995-04-01    6.9     -29.8\n",
              "1995-05-01   16.9      38.1\n",
              "1995-06-01   -0.3       1.5\n",
              "1995-07-01   -6.2     -51.7"
            ]
          },
          "metadata": {
            "tags": []
          },
          "execution_count": 53
        }
      ]
    },
    {
      "cell_type": "code",
      "metadata": {
        "id": "MVhiTfMcWLZx"
      },
      "source": [
        "num_obs = 12\n",
        "train_data = data_transformed[0:-num_obs]\n",
        "test_data = data_transformed[-num_obs:]"
      ],
      "execution_count": 54,
      "outputs": []
    },
    {
      "cell_type": "markdown",
      "metadata": {
        "id": "qCFSrKKLWb16"
      },
      "source": [
        "**VARMA Model Fit**"
      ]
    },
    {
      "cell_type": "code",
      "metadata": {
        "id": "etiaO3WXWe1J",
        "outputId": "550e060c-1103-4db5-8dab-f9051ab9b026",
        "colab": {
          "base_uri": "https://localhost:8080/",
          "height": 764
        }
      },
      "source": [
        "model = VARMAX(train_data, order=(1,1), trend='c')\n",
        "result = model.fit(maxiter=1000,disp=False)\n",
        "result.summary()"
      ],
      "execution_count": 55,
      "outputs": [
        {
          "output_type": "execute_result",
          "data": {
            "text/html": [
              "<table class=\"simpletable\">\n",
              "<caption>Statespace Model Results</caption>\n",
              "<tr>\n",
              "  <th>Dep. Variable:</th>   <td>['Money', 'Spending']</td> <th>  No. Observations:  </th>    <td>238</td>   \n",
              "</tr>\n",
              "<tr>\n",
              "  <th>Model:</th>                <td>VARMA(1,1)</td>       <th>  Log Likelihood     </th> <td>-2287.896</td>\n",
              "</tr>\n",
              "<tr>\n",
              "  <th></th>                      <td>+ intercept</td>      <th>  AIC                </th> <td>4601.791</td> \n",
              "</tr>\n",
              "<tr>\n",
              "  <th>Date:</th>              <td>Tue, 17 Nov 2020</td>    <th>  BIC                </th> <td>4646.931</td> \n",
              "</tr>\n",
              "<tr>\n",
              "  <th>Time:</th>                  <td>08:52:41</td>        <th>  HQIC               </th> <td>4619.983</td> \n",
              "</tr>\n",
              "<tr>\n",
              "  <th>Sample:</th>               <td>03-01-1995</td>       <th>                     </th>     <td> </td>    \n",
              "</tr>\n",
              "<tr>\n",
              "  <th></th>                     <td>- 12-01-2014</td>      <th>                     </th>     <td> </td>    \n",
              "</tr>\n",
              "<tr>\n",
              "  <th>Covariance Type:</th>          <td>opg</td>          <th>                     </th>     <td> </td>    \n",
              "</tr>\n",
              "</table>\n",
              "<table class=\"simpletable\">\n",
              "<tr>\n",
              "  <th>Ljung-Box (Q):</th>          <td>74.89, 27.42</td> <th>  Jarque-Bera (JB):  </th> <td>540.10, 138.54</td>\n",
              "</tr>\n",
              "<tr>\n",
              "  <th>Prob(Q):</th>                 <td>0.00, 0.93</td>  <th>  Prob(JB):          </th>   <td>0.00, 0.00</td>  \n",
              "</tr>\n",
              "<tr>\n",
              "  <th>Heteroskedasticity (H):</th>  <td>5.61, 2.90</td>  <th>  Skew:              </th>   <td>1.30, -0.35</td> \n",
              "</tr>\n",
              "<tr>\n",
              "  <th>Prob(H) (two-sided):</th>     <td>0.00, 0.00</td>  <th>  Kurtosis:          </th>   <td>9.90, 6.67</td>  \n",
              "</tr>\n",
              "</table>\n",
              "<table class=\"simpletable\">\n",
              "<caption>Results for equation Money</caption>\n",
              "<tr>\n",
              "         <td></td>           <th>coef</th>     <th>std err</th>      <th>z</th>      <th>P>|z|</th>  <th>[0.025</th>    <th>0.975]</th>  \n",
              "</tr>\n",
              "<tr>\n",
              "  <th>intercept</th>      <td>    0.1461</td> <td>    0.038</td> <td>    3.836</td> <td> 0.000</td> <td>    0.071</td> <td>    0.221</td>\n",
              "</tr>\n",
              "<tr>\n",
              "  <th>L1.Money</th>       <td>    0.2318</td> <td>    0.038</td> <td>    6.105</td> <td> 0.000</td> <td>    0.157</td> <td>    0.306</td>\n",
              "</tr>\n",
              "<tr>\n",
              "  <th>L1.Spending</th>    <td>   -0.1194</td> <td>    0.043</td> <td>   -2.748</td> <td> 0.006</td> <td>   -0.205</td> <td>   -0.034</td>\n",
              "</tr>\n",
              "<tr>\n",
              "  <th>L1.e(Money)</th>    <td>   -0.9979</td> <td>    0.058</td> <td>  -17.082</td> <td> 0.000</td> <td>   -1.112</td> <td>   -0.883</td>\n",
              "</tr>\n",
              "<tr>\n",
              "  <th>L1.e(Spending)</th> <td>    0.0053</td> <td>    0.020</td> <td>    0.271</td> <td> 0.787</td> <td>   -0.033</td> <td>    0.044</td>\n",
              "</tr>\n",
              "</table>\n",
              "<table class=\"simpletable\">\n",
              "<caption>Results for equation Spending</caption>\n",
              "<tr>\n",
              "         <td></td>           <th>coef</th>     <th>std err</th>      <th>z</th>      <th>P>|z|</th>  <th>[0.025</th>    <th>0.975]</th>  \n",
              "</tr>\n",
              "<tr>\n",
              "  <th>intercept</th>      <td>    0.0808</td> <td>    0.307</td> <td>    0.263</td> <td> 0.793</td> <td>   -0.521</td> <td>    0.683</td>\n",
              "</tr>\n",
              "<tr>\n",
              "  <th>L1.Money</th>       <td>    0.0866</td> <td>    0.090</td> <td>    0.962</td> <td> 0.336</td> <td>   -0.090</td> <td>    0.263</td>\n",
              "</tr>\n",
              "<tr>\n",
              "  <th>L1.Spending</th>    <td>   -0.0870</td> <td>    0.063</td> <td>   -1.389</td> <td> 0.165</td> <td>   -0.210</td> <td>    0.036</td>\n",
              "</tr>\n",
              "<tr>\n",
              "  <th>L1.e(Money)</th>    <td>   -0.0084</td> <td>    0.050</td> <td>   -0.169</td> <td> 0.866</td> <td>   -0.105</td> <td>    0.089</td>\n",
              "</tr>\n",
              "<tr>\n",
              "  <th>L1.e(Spending)</th> <td>   -0.8877</td> <td>    0.032</td> <td>  -28.101</td> <td> 0.000</td> <td>   -0.950</td> <td>   -0.826</td>\n",
              "</tr>\n",
              "</table>\n",
              "<table class=\"simpletable\">\n",
              "<caption>Error covariance matrix</caption>\n",
              "<tr>\n",
              "             <td></td>                <th>coef</th>     <th>std err</th>      <th>z</th>      <th>P>|z|</th>  <th>[0.025</th>    <th>0.975]</th>  \n",
              "</tr>\n",
              "<tr>\n",
              "  <th>sqrt.var.Money</th>          <td>   25.9082</td> <td>    1.150</td> <td>   22.537</td> <td> 0.000</td> <td>   23.655</td> <td>   28.161</td>\n",
              "</tr>\n",
              "<tr>\n",
              "  <th>sqrt.cov.Money.Spending</th> <td>   -8.9438</td> <td>    1.776</td> <td>   -5.035</td> <td> 0.000</td> <td>  -12.425</td> <td>   -5.462</td>\n",
              "</tr>\n",
              "<tr>\n",
              "  <th>sqrt.var.Spending</th>       <td>   33.3580</td> <td>    1.164</td> <td>   28.648</td> <td> 0.000</td> <td>   31.076</td> <td>   35.640</td>\n",
              "</tr>\n",
              "</table><br/><br/>Warnings:<br/>[1] Covariance matrix calculated using the outer product of gradients (complex-step)."
            ],
            "text/plain": [
              "<class 'statsmodels.iolib.summary.Summary'>\n",
              "\"\"\"\n",
              "                             Statespace Model Results                            \n",
              "=================================================================================\n",
              "Dep. Variable:     ['Money', 'Spending']   No. Observations:                  238\n",
              "Model:                        VARMA(1,1)   Log Likelihood               -2287.896\n",
              "                             + intercept   AIC                           4601.791\n",
              "Date:                   Tue, 17 Nov 2020   BIC                           4646.931\n",
              "Time:                           08:52:41   HQIC                          4619.983\n",
              "Sample:                       03-01-1995                                         \n",
              "                            - 12-01-2014                                         \n",
              "Covariance Type:                     opg                                         \n",
              "===================================================================================\n",
              "Ljung-Box (Q):                74.89, 27.42   Jarque-Bera (JB):       540.10, 138.54\n",
              "Prob(Q):                        0.00, 0.93   Prob(JB):                   0.00, 0.00\n",
              "Heteroskedasticity (H):         5.61, 2.90   Skew:                      1.30, -0.35\n",
              "Prob(H) (two-sided):            0.00, 0.00   Kurtosis:                   9.90, 6.67\n",
              "                            Results for equation Money                            \n",
              "==================================================================================\n",
              "                     coef    std err          z      P>|z|      [0.025      0.975]\n",
              "----------------------------------------------------------------------------------\n",
              "intercept          0.1461      0.038      3.836      0.000       0.071       0.221\n",
              "L1.Money           0.2318      0.038      6.105      0.000       0.157       0.306\n",
              "L1.Spending       -0.1194      0.043     -2.748      0.006      -0.205      -0.034\n",
              "L1.e(Money)       -0.9979      0.058    -17.082      0.000      -1.112      -0.883\n",
              "L1.e(Spending)     0.0053      0.020      0.271      0.787      -0.033       0.044\n",
              "                          Results for equation Spending                           \n",
              "==================================================================================\n",
              "                     coef    std err          z      P>|z|      [0.025      0.975]\n",
              "----------------------------------------------------------------------------------\n",
              "intercept          0.0808      0.307      0.263      0.793      -0.521       0.683\n",
              "L1.Money           0.0866      0.090      0.962      0.336      -0.090       0.263\n",
              "L1.Spending       -0.0870      0.063     -1.389      0.165      -0.210       0.036\n",
              "L1.e(Money)       -0.0084      0.050     -0.169      0.866      -0.105       0.089\n",
              "L1.e(Spending)    -0.8877      0.032    -28.101      0.000      -0.950      -0.826\n",
              "                                  Error covariance matrix                                  \n",
              "===========================================================================================\n",
              "                              coef    std err          z      P>|z|      [0.025      0.975]\n",
              "-------------------------------------------------------------------------------------------\n",
              "sqrt.var.Money             25.9082      1.150     22.537      0.000      23.655      28.161\n",
              "sqrt.cov.Money.Spending    -8.9438      1.776     -5.035      0.000     -12.425      -5.462\n",
              "sqrt.var.Spending          33.3580      1.164     28.648      0.000      31.076      35.640\n",
              "===========================================================================================\n",
              "\n",
              "Warnings:\n",
              "[1] Covariance matrix calculated using the outer product of gradients (complex-step).\n",
              "\"\"\""
            ]
          },
          "metadata": {
            "tags": []
          },
          "execution_count": 55
        }
      ]
    },
    {
      "cell_type": "code",
      "metadata": {
        "id": "mjX82lJ7XAbp",
        "outputId": "ebc4daf6-a4ff-4038-8731-795eee82f283",
        "colab": {
          "base_uri": "https://localhost:8080/",
          "height": 850
        }
      },
      "source": [
        "model_1 = VARMAX(train_data, order=(1,2), trend='c')\n",
        "result_1 = model_1.fit(maxiter=1000,disp=False)\n",
        "result_1.summary()"
      ],
      "execution_count": 56,
      "outputs": [
        {
          "output_type": "execute_result",
          "data": {
            "text/html": [
              "<table class=\"simpletable\">\n",
              "<caption>Statespace Model Results</caption>\n",
              "<tr>\n",
              "  <th>Dep. Variable:</th>   <td>['Money', 'Spending']</td> <th>  No. Observations:  </th>    <td>238</td>   \n",
              "</tr>\n",
              "<tr>\n",
              "  <th>Model:</th>                <td>VARMA(1,2)</td>       <th>  Log Likelihood     </th> <td>-2286.309</td>\n",
              "</tr>\n",
              "<tr>\n",
              "  <th></th>                      <td>+ intercept</td>      <th>  AIC                </th> <td>4606.618</td> \n",
              "</tr>\n",
              "<tr>\n",
              "  <th>Date:</th>              <td>Tue, 17 Nov 2020</td>    <th>  BIC                </th> <td>4665.646</td> \n",
              "</tr>\n",
              "<tr>\n",
              "  <th>Time:</th>                  <td>08:53:03</td>        <th>  HQIC               </th> <td>4630.407</td> \n",
              "</tr>\n",
              "<tr>\n",
              "  <th>Sample:</th>               <td>03-01-1995</td>       <th>                     </th>     <td> </td>    \n",
              "</tr>\n",
              "<tr>\n",
              "  <th></th>                     <td>- 12-01-2014</td>      <th>                     </th>     <td> </td>    \n",
              "</tr>\n",
              "<tr>\n",
              "  <th>Covariance Type:</th>          <td>opg</td>          <th>                     </th>     <td> </td>    \n",
              "</tr>\n",
              "</table>\n",
              "<table class=\"simpletable\">\n",
              "<tr>\n",
              "  <th>Ljung-Box (Q):</th>          <td>68.08, 28.09</td> <th>  Jarque-Bera (JB):  </th> <td>566.68, 126.74</td>\n",
              "</tr>\n",
              "<tr>\n",
              "  <th>Prob(Q):</th>                 <td>0.00, 0.92</td>  <th>  Prob(JB):          </th>   <td>0.00, 0.00</td>  \n",
              "</tr>\n",
              "<tr>\n",
              "  <th>Heteroskedasticity (H):</th>  <td>5.68, 2.89</td>  <th>  Skew:              </th>   <td>1.36, -0.35</td> \n",
              "</tr>\n",
              "<tr>\n",
              "  <th>Prob(H) (two-sided):</th>     <td>0.00, 0.00</td>  <th>  Kurtosis:          </th>   <td>10.05, 6.51</td> \n",
              "</tr>\n",
              "</table>\n",
              "<table class=\"simpletable\">\n",
              "<caption>Results for equation Money</caption>\n",
              "<tr>\n",
              "         <td></td>           <th>coef</th>     <th>std err</th>      <th>z</th>      <th>P>|z|</th>  <th>[0.025</th>    <th>0.975]</th>  \n",
              "</tr>\n",
              "<tr>\n",
              "  <th>intercept</th>      <td>    0.1972</td> <td>    0.681</td> <td>    0.290</td> <td> 0.772</td> <td>   -1.137</td> <td>    1.532</td>\n",
              "</tr>\n",
              "<tr>\n",
              "  <th>L1.Money</th>       <td>   -0.9671</td> <td>    2.957</td> <td>   -0.327</td> <td> 0.744</td> <td>   -6.762</td> <td>    4.828</td>\n",
              "</tr>\n",
              "<tr>\n",
              "  <th>L1.Spending</th>    <td>    1.7808</td> <td>    5.096</td> <td>    0.349</td> <td> 0.727</td> <td>   -8.207</td> <td>   11.769</td>\n",
              "</tr>\n",
              "<tr>\n",
              "  <th>L1.e(Money)</th>    <td>    0.2006</td> <td>    2.946</td> <td>    0.068</td> <td> 0.946</td> <td>   -5.573</td> <td>    5.974</td>\n",
              "</tr>\n",
              "<tr>\n",
              "  <th>L1.e(Spending)</th> <td>   -1.9005</td> <td>    5.097</td> <td>   -0.373</td> <td> 0.709</td> <td>  -11.891</td> <td>    8.090</td>\n",
              "</tr>\n",
              "<tr>\n",
              "  <th>L2.e(Money)</th>    <td>   -1.2125</td> <td>    2.971</td> <td>   -0.408</td> <td> 0.683</td> <td>   -7.035</td> <td>    4.610</td>\n",
              "</tr>\n",
              "<tr>\n",
              "  <th>L2.e(Spending)</th> <td>    1.6790</td> <td>    4.511</td> <td>    0.372</td> <td> 0.710</td> <td>   -7.163</td> <td>   10.521</td>\n",
              "</tr>\n",
              "</table>\n",
              "<table class=\"simpletable\">\n",
              "<caption>Results for equation Spending</caption>\n",
              "<tr>\n",
              "         <td></td>           <th>coef</th>     <th>std err</th>      <th>z</th>      <th>P>|z|</th>  <th>[0.025</th>    <th>0.975]</th>  \n",
              "</tr>\n",
              "<tr>\n",
              "  <th>intercept</th>      <td>    0.0803</td> <td>    0.156</td> <td>    0.513</td> <td> 0.608</td> <td>   -0.226</td> <td>    0.387</td>\n",
              "</tr>\n",
              "<tr>\n",
              "  <th>L1.Money</th>       <td>   -0.2063</td> <td>    1.851</td> <td>   -0.111</td> <td> 0.911</td> <td>   -3.835</td> <td>    3.422</td>\n",
              "</tr>\n",
              "<tr>\n",
              "  <th>L1.Spending</th>    <td>    0.4881</td> <td>    3.023</td> <td>    0.161</td> <td> 0.872</td> <td>   -5.437</td> <td>    6.413</td>\n",
              "</tr>\n",
              "<tr>\n",
              "  <th>L1.e(Money)</th>    <td>    0.3267</td> <td>    1.906</td> <td>    0.171</td> <td> 0.864</td> <td>   -3.410</td> <td>    4.063</td>\n",
              "</tr>\n",
              "<tr>\n",
              "  <th>L1.e(Spending)</th> <td>   -1.4493</td> <td>    3.004</td> <td>   -0.482</td> <td> 0.629</td> <td>   -7.336</td> <td>    4.438</td>\n",
              "</tr>\n",
              "<tr>\n",
              "  <th>L2.e(Money)</th>    <td>   -0.3246</td> <td>    1.928</td> <td>   -0.168</td> <td> 0.866</td> <td>   -4.103</td> <td>    3.454</td>\n",
              "</tr>\n",
              "<tr>\n",
              "  <th>L2.e(Spending)</th> <td>    0.5054</td> <td>    2.642</td> <td>    0.191</td> <td> 0.848</td> <td>   -4.672</td> <td>    5.683</td>\n",
              "</tr>\n",
              "</table>\n",
              "<table class=\"simpletable\">\n",
              "<caption>Error covariance matrix</caption>\n",
              "<tr>\n",
              "             <td></td>                <th>coef</th>     <th>std err</th>      <th>z</th>      <th>P>|z|</th>  <th>[0.025</th>    <th>0.975]</th>  \n",
              "</tr>\n",
              "<tr>\n",
              "  <th>sqrt.var.Money</th>          <td>   25.5463</td> <td>    1.723</td> <td>   14.826</td> <td> 0.000</td> <td>   22.169</td> <td>   28.923</td>\n",
              "</tr>\n",
              "<tr>\n",
              "  <th>sqrt.cov.Money.Spending</th> <td>   -9.7312</td> <td>    1.889</td> <td>   -5.152</td> <td> 0.000</td> <td>  -13.433</td> <td>   -6.029</td>\n",
              "</tr>\n",
              "<tr>\n",
              "  <th>sqrt.var.Spending</th>       <td>   33.6015</td> <td>    1.245</td> <td>   26.982</td> <td> 0.000</td> <td>   31.161</td> <td>   36.042</td>\n",
              "</tr>\n",
              "</table><br/><br/>Warnings:<br/>[1] Covariance matrix calculated using the outer product of gradients (complex-step)."
            ],
            "text/plain": [
              "<class 'statsmodels.iolib.summary.Summary'>\n",
              "\"\"\"\n",
              "                             Statespace Model Results                            \n",
              "=================================================================================\n",
              "Dep. Variable:     ['Money', 'Spending']   No. Observations:                  238\n",
              "Model:                        VARMA(1,2)   Log Likelihood               -2286.309\n",
              "                             + intercept   AIC                           4606.618\n",
              "Date:                   Tue, 17 Nov 2020   BIC                           4665.646\n",
              "Time:                           08:53:03   HQIC                          4630.407\n",
              "Sample:                       03-01-1995                                         \n",
              "                            - 12-01-2014                                         \n",
              "Covariance Type:                     opg                                         \n",
              "===================================================================================\n",
              "Ljung-Box (Q):                68.08, 28.09   Jarque-Bera (JB):       566.68, 126.74\n",
              "Prob(Q):                        0.00, 0.92   Prob(JB):                   0.00, 0.00\n",
              "Heteroskedasticity (H):         5.68, 2.89   Skew:                      1.36, -0.35\n",
              "Prob(H) (two-sided):            0.00, 0.00   Kurtosis:                  10.05, 6.51\n",
              "                            Results for equation Money                            \n",
              "==================================================================================\n",
              "                     coef    std err          z      P>|z|      [0.025      0.975]\n",
              "----------------------------------------------------------------------------------\n",
              "intercept          0.1972      0.681      0.290      0.772      -1.137       1.532\n",
              "L1.Money          -0.9671      2.957     -0.327      0.744      -6.762       4.828\n",
              "L1.Spending        1.7808      5.096      0.349      0.727      -8.207      11.769\n",
              "L1.e(Money)        0.2006      2.946      0.068      0.946      -5.573       5.974\n",
              "L1.e(Spending)    -1.9005      5.097     -0.373      0.709     -11.891       8.090\n",
              "L2.e(Money)       -1.2125      2.971     -0.408      0.683      -7.035       4.610\n",
              "L2.e(Spending)     1.6790      4.511      0.372      0.710      -7.163      10.521\n",
              "                          Results for equation Spending                           \n",
              "==================================================================================\n",
              "                     coef    std err          z      P>|z|      [0.025      0.975]\n",
              "----------------------------------------------------------------------------------\n",
              "intercept          0.0803      0.156      0.513      0.608      -0.226       0.387\n",
              "L1.Money          -0.2063      1.851     -0.111      0.911      -3.835       3.422\n",
              "L1.Spending        0.4881      3.023      0.161      0.872      -5.437       6.413\n",
              "L1.e(Money)        0.3267      1.906      0.171      0.864      -3.410       4.063\n",
              "L1.e(Spending)    -1.4493      3.004     -0.482      0.629      -7.336       4.438\n",
              "L2.e(Money)       -0.3246      1.928     -0.168      0.866      -4.103       3.454\n",
              "L2.e(Spending)     0.5054      2.642      0.191      0.848      -4.672       5.683\n",
              "                                  Error covariance matrix                                  \n",
              "===========================================================================================\n",
              "                              coef    std err          z      P>|z|      [0.025      0.975]\n",
              "-------------------------------------------------------------------------------------------\n",
              "sqrt.var.Money             25.5463      1.723     14.826      0.000      22.169      28.923\n",
              "sqrt.cov.Money.Spending    -9.7312      1.889     -5.152      0.000     -13.433      -6.029\n",
              "sqrt.var.Spending          33.6015      1.245     26.982      0.000      31.161      36.042\n",
              "===========================================================================================\n",
              "\n",
              "Warnings:\n",
              "[1] Covariance matrix calculated using the outer product of gradients (complex-step).\n",
              "\"\"\""
            ]
          },
          "metadata": {
            "tags": []
          },
          "execution_count": 56
        }
      ]
    },
    {
      "cell_type": "code",
      "metadata": {
        "id": "c2XJR89NXb-I",
        "outputId": "ceb01797-0ffc-4b29-cfb7-fe18aab66fea",
        "colab": {
          "base_uri": "https://localhost:8080/",
          "height": 426
        }
      },
      "source": [
        "data_forecast = result.forecast(12)\n",
        "data_forecast"
      ],
      "execution_count": 57,
      "outputs": [
        {
          "output_type": "execute_result",
          "data": {
            "text/html": [
              "<div>\n",
              "<style scoped>\n",
              "    .dataframe tbody tr th:only-of-type {\n",
              "        vertical-align: middle;\n",
              "    }\n",
              "\n",
              "    .dataframe tbody tr th {\n",
              "        vertical-align: top;\n",
              "    }\n",
              "\n",
              "    .dataframe thead th {\n",
              "        text-align: right;\n",
              "    }\n",
              "</style>\n",
              "<table border=\"1\" class=\"dataframe\">\n",
              "  <thead>\n",
              "    <tr style=\"text-align: right;\">\n",
              "      <th></th>\n",
              "      <th>Money</th>\n",
              "      <th>Spending</th>\n",
              "    </tr>\n",
              "  </thead>\n",
              "  <tbody>\n",
              "    <tr>\n",
              "      <th>2015-01-01</th>\n",
              "      <td>-14.114916</td>\n",
              "      <td>35.856282</td>\n",
              "    </tr>\n",
              "    <tr>\n",
              "      <th>2015-02-01</th>\n",
              "      <td>-7.408660</td>\n",
              "      <td>-4.259215</td>\n",
              "    </tr>\n",
              "    <tr>\n",
              "      <th>2015-03-01</th>\n",
              "      <td>-1.062508</td>\n",
              "      <td>-0.190395</td>\n",
              "    </tr>\n",
              "    <tr>\n",
              "      <th>2015-04-01</th>\n",
              "      <td>-0.077476</td>\n",
              "      <td>0.005325</td>\n",
              "    </tr>\n",
              "    <tr>\n",
              "      <th>2015-05-01</th>\n",
              "      <td>0.127476</td>\n",
              "      <td>0.073601</td>\n",
              "    </tr>\n",
              "    <tr>\n",
              "      <th>2015-06-01</th>\n",
              "      <td>0.166828</td>\n",
              "      <td>0.085411</td>\n",
              "    </tr>\n",
              "    <tr>\n",
              "      <th>2015-07-01</th>\n",
              "      <td>0.174539</td>\n",
              "      <td>0.087792</td>\n",
              "    </tr>\n",
              "    <tr>\n",
              "      <th>2015-08-01</th>\n",
              "      <td>0.176042</td>\n",
              "      <td>0.088252</td>\n",
              "    </tr>\n",
              "    <tr>\n",
              "      <th>2015-09-01</th>\n",
              "      <td>0.176336</td>\n",
              "      <td>0.088342</td>\n",
              "    </tr>\n",
              "    <tr>\n",
              "      <th>2015-10-01</th>\n",
              "      <td>0.176393</td>\n",
              "      <td>0.088360</td>\n",
              "    </tr>\n",
              "    <tr>\n",
              "      <th>2015-11-01</th>\n",
              "      <td>0.176404</td>\n",
              "      <td>0.088363</td>\n",
              "    </tr>\n",
              "    <tr>\n",
              "      <th>2015-12-01</th>\n",
              "      <td>0.176406</td>\n",
              "      <td>0.088364</td>\n",
              "    </tr>\n",
              "  </tbody>\n",
              "</table>\n",
              "</div>"
            ],
            "text/plain": [
              "                Money   Spending\n",
              "2015-01-01 -14.114916  35.856282\n",
              "2015-02-01  -7.408660  -4.259215\n",
              "2015-03-01  -1.062508  -0.190395\n",
              "2015-04-01  -0.077476   0.005325\n",
              "2015-05-01   0.127476   0.073601\n",
              "2015-06-01   0.166828   0.085411\n",
              "2015-07-01   0.174539   0.087792\n",
              "2015-08-01   0.176042   0.088252\n",
              "2015-09-01   0.176336   0.088342\n",
              "2015-10-01   0.176393   0.088360\n",
              "2015-11-01   0.176404   0.088363\n",
              "2015-12-01   0.176406   0.088364"
            ]
          },
          "metadata": {
            "tags": []
          },
          "execution_count": 57
        }
      ]
    },
    {
      "cell_type": "code",
      "metadata": {
        "id": "eOfD1AhZXk7Z",
        "outputId": "3f6b364f-0812-485f-99c3-6cc35a2cc518",
        "colab": {
          "base_uri": "https://localhost:8080/",
          "height": 426
        }
      },
      "source": [
        "data_forecast_1 = result_1.forecast(12)\n",
        "data_forecast_1"
      ],
      "execution_count": 58,
      "outputs": [
        {
          "output_type": "execute_result",
          "data": {
            "text/html": [
              "<div>\n",
              "<style scoped>\n",
              "    .dataframe tbody tr th:only-of-type {\n",
              "        vertical-align: middle;\n",
              "    }\n",
              "\n",
              "    .dataframe tbody tr th {\n",
              "        vertical-align: top;\n",
              "    }\n",
              "\n",
              "    .dataframe thead th {\n",
              "        text-align: right;\n",
              "    }\n",
              "</style>\n",
              "<table border=\"1\" class=\"dataframe\">\n",
              "  <thead>\n",
              "    <tr style=\"text-align: right;\">\n",
              "      <th></th>\n",
              "      <th>Money</th>\n",
              "      <th>Spending</th>\n",
              "    </tr>\n",
              "  </thead>\n",
              "  <tbody>\n",
              "    <tr>\n",
              "      <th>2015-01-01</th>\n",
              "      <td>-12.191798</td>\n",
              "      <td>37.365311</td>\n",
              "    </tr>\n",
              "    <tr>\n",
              "      <th>2015-02-01</th>\n",
              "      <td>-11.205112</td>\n",
              "      <td>-5.136945</td>\n",
              "    </tr>\n",
              "    <tr>\n",
              "      <th>2015-03-01</th>\n",
              "      <td>1.885681</td>\n",
              "      <td>-0.115447</td>\n",
              "    </tr>\n",
              "    <tr>\n",
              "      <th>2015-04-01</th>\n",
              "      <td>-1.831952</td>\n",
              "      <td>-0.365111</td>\n",
              "    </tr>\n",
              "    <tr>\n",
              "      <th>2015-05-01</th>\n",
              "      <td>1.318704</td>\n",
              "      <td>0.279979</td>\n",
              "    </tr>\n",
              "    <tr>\n",
              "      <th>2015-06-01</th>\n",
              "      <td>-0.579469</td>\n",
              "      <td>-0.055138</td>\n",
              "    </tr>\n",
              "    <tr>\n",
              "      <th>2015-07-01</th>\n",
              "      <td>0.659448</td>\n",
              "      <td>0.172887</td>\n",
              "    </tr>\n",
              "    <tr>\n",
              "      <th>2015-08-01</th>\n",
              "      <td>-0.132621</td>\n",
              "      <td>0.028596</td>\n",
              "    </tr>\n",
              "    <tr>\n",
              "      <th>2015-09-01</th>\n",
              "      <td>0.376422</td>\n",
              "      <td>0.121573</td>\n",
              "    </tr>\n",
              "    <tr>\n",
              "      <th>2015-10-01</th>\n",
              "      <td>0.049707</td>\n",
              "      <td>0.061938</td>\n",
              "    </tr>\n",
              "    <tr>\n",
              "      <th>2015-11-01</th>\n",
              "      <td>0.259471</td>\n",
              "      <td>0.100232</td>\n",
              "    </tr>\n",
              "    <tr>\n",
              "      <th>2015-12-01</th>\n",
              "      <td>0.124806</td>\n",
              "      <td>0.075649</td>\n",
              "    </tr>\n",
              "  </tbody>\n",
              "</table>\n",
              "</div>"
            ],
            "text/plain": [
              "                Money   Spending\n",
              "2015-01-01 -12.191798  37.365311\n",
              "2015-02-01 -11.205112  -5.136945\n",
              "2015-03-01   1.885681  -0.115447\n",
              "2015-04-01  -1.831952  -0.365111\n",
              "2015-05-01   1.318704   0.279979\n",
              "2015-06-01  -0.579469  -0.055138\n",
              "2015-07-01   0.659448   0.172887\n",
              "2015-08-01  -0.132621   0.028596\n",
              "2015-09-01   0.376422   0.121573\n",
              "2015-10-01   0.049707   0.061938\n",
              "2015-11-01   0.259471   0.100232\n",
              "2015-12-01   0.124806   0.075649"
            ]
          },
          "metadata": {
            "tags": []
          },
          "execution_count": 58
        }
      ]
    },
    {
      "cell_type": "code",
      "metadata": {
        "id": "ISGx57a1Xptg",
        "outputId": "8f06a8ce-d4b5-4514-9e18-47e5a5d47369",
        "colab": {
          "base_uri": "https://localhost:8080/",
          "height": 206
        }
      },
      "source": [
        "#money\n",
        "data_forecast['Money_1D'] = (data['Money'].iloc[-num_obs-1] - data['Money'].iloc[-num_obs-2]) + data_forecast['Money'].cumsum()\n",
        "data_forecast['MoneyForecast'] = data['Money'].iloc[-num_obs-2] + data_forecast['Money_1D'].cumsum()\n",
        "# spending\n",
        "data_forecast['Spending_1D'] = (data['Spending'].iloc[-num_obs-1] - data['Spending'].iloc[-num_obs-2]) + data_forecast['Spending'].cumsum()\n",
        "data_forecast['SpendingForecast'] = data['Spending'].iloc[-num_obs-2] + data_forecast['Spending_1D'].cumsum()\n",
        "data_forecast.head()"
      ],
      "execution_count": 59,
      "outputs": [
        {
          "output_type": "execute_result",
          "data": {
            "text/html": [
              "<div>\n",
              "<style scoped>\n",
              "    .dataframe tbody tr th:only-of-type {\n",
              "        vertical-align: middle;\n",
              "    }\n",
              "\n",
              "    .dataframe tbody tr th {\n",
              "        vertical-align: top;\n",
              "    }\n",
              "\n",
              "    .dataframe thead th {\n",
              "        text-align: right;\n",
              "    }\n",
              "</style>\n",
              "<table border=\"1\" class=\"dataframe\">\n",
              "  <thead>\n",
              "    <tr style=\"text-align: right;\">\n",
              "      <th></th>\n",
              "      <th>Money</th>\n",
              "      <th>Spending</th>\n",
              "      <th>Money_1D</th>\n",
              "      <th>MoneyForecast</th>\n",
              "      <th>Spending_1D</th>\n",
              "      <th>SpendingForecast</th>\n",
              "    </tr>\n",
              "  </thead>\n",
              "  <tbody>\n",
              "    <tr>\n",
              "      <th>2015-01-01</th>\n",
              "      <td>-14.114916</td>\n",
              "      <td>35.856282</td>\n",
              "      <td>64.485084</td>\n",
              "      <td>11655.985084</td>\n",
              "      <td>46.456282</td>\n",
              "      <td>12097.856282</td>\n",
              "    </tr>\n",
              "    <tr>\n",
              "      <th>2015-02-01</th>\n",
              "      <td>-7.408660</td>\n",
              "      <td>-4.259215</td>\n",
              "      <td>57.076425</td>\n",
              "      <td>11713.061509</td>\n",
              "      <td>42.197067</td>\n",
              "      <td>12140.053349</td>\n",
              "    </tr>\n",
              "    <tr>\n",
              "      <th>2015-03-01</th>\n",
              "      <td>-1.062508</td>\n",
              "      <td>-0.190395</td>\n",
              "      <td>56.013917</td>\n",
              "      <td>11769.075426</td>\n",
              "      <td>42.006672</td>\n",
              "      <td>12182.060021</td>\n",
              "    </tr>\n",
              "    <tr>\n",
              "      <th>2015-04-01</th>\n",
              "      <td>-0.077476</td>\n",
              "      <td>0.005325</td>\n",
              "      <td>55.936441</td>\n",
              "      <td>11825.011867</td>\n",
              "      <td>42.011998</td>\n",
              "      <td>12224.072019</td>\n",
              "    </tr>\n",
              "    <tr>\n",
              "      <th>2015-05-01</th>\n",
              "      <td>0.127476</td>\n",
              "      <td>0.073601</td>\n",
              "      <td>56.063916</td>\n",
              "      <td>11881.075783</td>\n",
              "      <td>42.085599</td>\n",
              "      <td>12266.157618</td>\n",
              "    </tr>\n",
              "  </tbody>\n",
              "</table>\n",
              "</div>"
            ],
            "text/plain": [
              "                Money   Spending  ...  Spending_1D  SpendingForecast\n",
              "2015-01-01 -14.114916  35.856282  ...    46.456282      12097.856282\n",
              "2015-02-01  -7.408660  -4.259215  ...    42.197067      12140.053349\n",
              "2015-03-01  -1.062508  -0.190395  ...    42.006672      12182.060021\n",
              "2015-04-01  -0.077476   0.005325  ...    42.011998      12224.072019\n",
              "2015-05-01   0.127476   0.073601  ...    42.085599      12266.157618\n",
              "\n",
              "[5 rows x 6 columns]"
            ]
          },
          "metadata": {
            "tags": []
          },
          "execution_count": 59
        }
      ]
    },
    {
      "cell_type": "code",
      "metadata": {
        "id": "MYXDrgkHYQi1",
        "outputId": "641957b0-3e10-427a-f468-473719de9ad2",
        "colab": {
          "base_uri": "https://localhost:8080/",
          "height": 634
        }
      },
      "source": [
        "data['Money'][-num_obs:].plot(figsize=(16,10), legend=True)\n",
        "data_forecast['MoneyForecast'].plot(legend=True)\n"
      ],
      "execution_count": 60,
      "outputs": [
        {
          "output_type": "execute_result",
          "data": {
            "text/plain": [
              "<matplotlib.axes._subplots.AxesSubplot at 0x7fbba4c759b0>"
            ]
          },
          "metadata": {
            "tags": []
          },
          "execution_count": 60
        },
        {
          "output_type": "display_data",
          "data": {
            "image/png": "[encoded data removed]",
            "text/plain": [
              "<Figure size 1152x720 with 1 Axes>"
            ]
          },
          "metadata": {
            "tags": [],
            "needs_background": "light"
          }
        }
      ]
    },
    {
      "cell_type": "code",
      "metadata": {
        "id": "_FAwjcdjYuO7",
        "outputId": "4d9a3e89-7489-4bb9-b9ac-d1f6c243b1ea",
        "colab": {
          "base_uri": "https://localhost:8080/",
          "height": 634
        }
      },
      "source": [
        "data['Spending'][-num_obs:].plot(figsize=(16,10), legend=True)\n",
        "data_forecast['SpendingForecast'].plot(legend=True)\n"
      ],
      "execution_count": 61,
      "outputs": [
        {
          "output_type": "execute_result",
          "data": {
            "text/plain": [
              "<matplotlib.axes._subplots.AxesSubplot at 0x7fbba4c59cc0>"
            ]
          },
          "metadata": {
            "tags": []
          },
          "execution_count": 61
        },
        {
          "output_type": "display_data",
          "data": {
            "image/png": "[encoded data removed]",
            "text/plain": [
              "<Figure size 1152x720 with 1 Axes>"
            ]
          },
          "metadata": {
            "tags": [],
            "needs_background": "light"
          }
        }
      ]
    },
    {
      "cell_type": "code",
      "metadata": {
        "id": "ZodkUsVWY_Uv",
        "outputId": "f780fa5e-c118-40cd-e1f0-4315e0e8e92c",
        "colab": {
          "base_uri": "https://localhost:8080/"
        }
      },
      "source": [
        "rmse(data['Money'][-num_obs:], data_forecast['MoneyForecast'])"
      ],
      "execution_count": 62,
      "outputs": [
        {
          "output_type": "execute_result",
          "data": {
            "text/plain": [
              "73.71590900083096"
            ]
          },
          "metadata": {
            "tags": []
          },
          "execution_count": 62
        }
      ]
    },
    {
      "cell_type": "code",
      "metadata": {
        "id": "XjZ31GrFZKY8",
        "outputId": "44922018-ce72-4ee8-a64a-877fa328e5b1",
        "colab": {
          "base_uri": "https://localhost:8080/"
        }
      },
      "source": [
        "rmse(data['Spending'][-num_obs:], data_forecast['SpendingForecast'])"
      ],
      "execution_count": 63,
      "outputs": [
        {
          "output_type": "execute_result",
          "data": {
            "text/plain": [
              "47.403926260587795"
            ]
          },
          "metadata": {
            "tags": []
          },
          "execution_count": 63
        }
      ]
    },
    {
      "cell_type": "code",
      "metadata": {
        "id": "ExbP1cA2ZRZv",
        "outputId": "ab98c34f-d7f4-4820-eec1-3183adf66de7",
        "colab": {
          "base_uri": "https://localhost:8080/",
          "height": 206
        }
      },
      "source": [
        "#money\n",
        "data_forecast_1['Money_1D'] = (data['Money'].iloc[-num_obs-1] - data['Money'].iloc[-num_obs-2]) + data_forecast_1['Money'].cumsum()\n",
        "data_forecast_1['MoneyForecast'] = data['Money'].iloc[-num_obs-2] + data_forecast_1['Money_1D'].cumsum()\n",
        "# spending\n",
        "data_forecast_1['Spending_1D'] = (data['Spending'].iloc[-num_obs-1] - data['Spending'].iloc[-num_obs-2]) + data_forecast_1['Spending'].cumsum()\n",
        "data_forecast_1['SpendingForecast'] = data['Spending'].iloc[-num_obs-2] + data_forecast_1['Spending_1D'].cumsum()\n",
        "data_forecast_1.head()"
      ],
      "execution_count": 64,
      "outputs": [
        {
          "output_type": "execute_result",
          "data": {
            "text/html": [
              "<div>\n",
              "<style scoped>\n",
              "    .dataframe tbody tr th:only-of-type {\n",
              "        vertical-align: middle;\n",
              "    }\n",
              "\n",
              "    .dataframe tbody tr th {\n",
              "        vertical-align: top;\n",
              "    }\n",
              "\n",
              "    .dataframe thead th {\n",
              "        text-align: right;\n",
              "    }\n",
              "</style>\n",
              "<table border=\"1\" class=\"dataframe\">\n",
              "  <thead>\n",
              "    <tr style=\"text-align: right;\">\n",
              "      <th></th>\n",
              "      <th>Money</th>\n",
              "      <th>Spending</th>\n",
              "      <th>Money_1D</th>\n",
              "      <th>MoneyForecast</th>\n",
              "      <th>Spending_1D</th>\n",
              "      <th>SpendingForecast</th>\n",
              "    </tr>\n",
              "  </thead>\n",
              "  <tbody>\n",
              "    <tr>\n",
              "      <th>2015-01-01</th>\n",
              "      <td>-12.191798</td>\n",
              "      <td>37.365311</td>\n",
              "      <td>66.408202</td>\n",
              "      <td>11657.908202</td>\n",
              "      <td>47.965311</td>\n",
              "      <td>12099.365311</td>\n",
              "    </tr>\n",
              "    <tr>\n",
              "      <th>2015-02-01</th>\n",
              "      <td>-11.205112</td>\n",
              "      <td>-5.136945</td>\n",
              "      <td>55.203090</td>\n",
              "      <td>11713.111293</td>\n",
              "      <td>42.828367</td>\n",
              "      <td>12142.193678</td>\n",
              "    </tr>\n",
              "    <tr>\n",
              "      <th>2015-03-01</th>\n",
              "      <td>1.885681</td>\n",
              "      <td>-0.115447</td>\n",
              "      <td>57.088771</td>\n",
              "      <td>11770.200064</td>\n",
              "      <td>42.712920</td>\n",
              "      <td>12184.906598</td>\n",
              "    </tr>\n",
              "    <tr>\n",
              "      <th>2015-04-01</th>\n",
              "      <td>-1.831952</td>\n",
              "      <td>-0.365111</td>\n",
              "      <td>55.256819</td>\n",
              "      <td>11825.456882</td>\n",
              "      <td>42.347809</td>\n",
              "      <td>12227.254406</td>\n",
              "    </tr>\n",
              "    <tr>\n",
              "      <th>2015-05-01</th>\n",
              "      <td>1.318704</td>\n",
              "      <td>0.279979</td>\n",
              "      <td>56.575523</td>\n",
              "      <td>11882.032405</td>\n",
              "      <td>42.627787</td>\n",
              "      <td>12269.882193</td>\n",
              "    </tr>\n",
              "  </tbody>\n",
              "</table>\n",
              "</div>"
            ],
            "text/plain": [
              "                Money   Spending  ...  Spending_1D  SpendingForecast\n",
              "2015-01-01 -12.191798  37.365311  ...    47.965311      12099.365311\n",
              "2015-02-01 -11.205112  -5.136945  ...    42.828367      12142.193678\n",
              "2015-03-01   1.885681  -0.115447  ...    42.712920      12184.906598\n",
              "2015-04-01  -1.831952  -0.365111  ...    42.347809      12227.254406\n",
              "2015-05-01   1.318704   0.279979  ...    42.627787      12269.882193\n",
              "\n",
              "[5 rows x 6 columns]"
            ]
          },
          "metadata": {
            "tags": []
          },
          "execution_count": 64
        }
      ]
    },
    {
      "cell_type": "code",
      "metadata": {
        "id": "rnJdeBRJZoDs",
        "outputId": "e4274033-0d2a-44ed-cf33-fce4b3e05ef5",
        "colab": {
          "base_uri": "https://localhost:8080/",
          "height": 634
        }
      },
      "source": [
        "data['Money'][-num_obs:].plot(figsize=(16,10), legend=True)\n",
        "data_forecast_1['MoneyForecast'].plot(legend=True)"
      ],
      "execution_count": 65,
      "outputs": [
        {
          "output_type": "execute_result",
          "data": {
            "text/plain": [
              "<matplotlib.axes._subplots.AxesSubplot at 0x7fbba4bc9a20>"
            ]
          },
          "metadata": {
            "tags": []
          },
          "execution_count": 65
        },
        {
          "output_type": "display_data",
          "data": {
            "image/png": "[encoded data removed]",
            "text/plain": [
              "<Figure size 1152x720 with 1 Axes>"
            ]
          },
          "metadata": {
            "tags": [],
            "needs_background": "light"
          }
        }
      ]
    },
    {
      "cell_type": "code",
      "metadata": {
        "id": "XzpA-Y3bZuMj",
        "outputId": "109dbbdd-a100-421d-e40e-154e9128a8f2",
        "colab": {
          "base_uri": "https://localhost:8080/",
          "height": 634
        }
      },
      "source": [
        "data['Spending'][-num_obs:].plot(figsize=(16,10), legend=True)\n",
        "data_forecast_1['SpendingForecast'].plot(legend=True)"
      ],
      "execution_count": 66,
      "outputs": [
        {
          "output_type": "execute_result",
          "data": {
            "text/plain": [
              "<matplotlib.axes._subplots.AxesSubplot at 0x7fbba4c7a5c0>"
            ]
          },
          "metadata": {
            "tags": []
          },
          "execution_count": 66
        },
        {
          "output_type": "display_data",
          "data": {
            "image/png": "[encoded data removed]",
            "text/plain": [
              "<Figure size 1152x720 with 1 Axes>"
            ]
          },
          "metadata": {
            "tags": [],
            "needs_background": "light"
          }
        }
      ]
    },
    {
      "cell_type": "code",
      "metadata": {
        "id": "EHoM5LxvZyCG",
        "outputId": "e0003fa8-8f95-49d2-ffad-27732a7a89b6",
        "colab": {
          "base_uri": "https://localhost:8080/"
        }
      },
      "source": [
        "rmse(data['Money'][-num_obs:], data_forecast_1['MoneyForecast'])"
      ],
      "execution_count": 67,
      "outputs": [
        {
          "output_type": "execute_result",
          "data": {
            "text/plain": [
              "72.91078891573673"
            ]
          },
          "metadata": {
            "tags": []
          },
          "execution_count": 67
        }
      ]
    },
    {
      "cell_type": "code",
      "metadata": {
        "id": "kcMeq2rbZzYl",
        "outputId": "de8f334f-dc38-4e66-bb17-31fae38c0e99",
        "colab": {
          "base_uri": "https://localhost:8080/"
        }
      },
      "source": [
        "rmse(data['Spending'][-num_obs:], data_forecast_1['SpendingForecast'])"
      ],
      "execution_count": 68,
      "outputs": [
        {
          "output_type": "execute_result",
          "data": {
            "text/plain": [
              "51.04334913262422"
            ]
          },
          "metadata": {
            "tags": []
          },
          "execution_count": 68
        }
      ]
    },
    {
      "cell_type": "code",
      "metadata": {
        "id": "2yd40siIZ32b"
      },
      "source": [
        ""
      ],
      "execution_count": 68,
      "outputs": []
    }
  ]
}